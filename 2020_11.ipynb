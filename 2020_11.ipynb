{
 "cells": [
  {
   "cell_type": "markdown",
   "metadata": {},
   "source": [
    "### *20201103*"
   ]
  },
  {
   "cell_type": "markdown",
   "metadata": {},
   "source": [
    "[Atcoder版！蟻本（初級編）](https://qiita.com/drken/items/e77685614f3c6bf86f44)\n",
    "を順番に解くことにする。\n",
    "\n",
    "1-6-1 Atcoder類題４問。\n",
    "\n",
    "まずはいろんな標準入力の仕方を知った。"
   ]
  },
  {
   "cell_type": "code",
   "execution_count": null,
   "metadata": {},
   "outputs": [],
   "source": [
    "N = int(input())\n",
    "P = [list(map(int, input().split())) for i in range(N)]\n",
    "a, b = map(int, input('a,b:').split())"
   ]
  },
  {
   "cell_type": "markdown",
   "metadata": {},
   "source": [
    "リストを用意して.append()で格納、.sort()でリストを昇順に並べ替えられる"
   ]
  },
  {
   "cell_type": "code",
   "execution_count": null,
   "metadata": {},
   "outputs": [],
   "source": [
    "sqdis_list = []\n",
    "sqdis_list.append(3)\n",
    "sqdis_list.append(2)\n",
    "sqdis_list.append(5)\n",
    "sqdis_list.sort()\n",
    "print(sqdis_list)"
   ]
  },
  {
   "cell_type": "markdown",
   "metadata": {},
   "source": [
    "range(k)は　0<= i < kで、range(0, k) も 0<= i < k"
   ]
  },
  {
   "cell_type": "code",
   "execution_count": null,
   "metadata": {},
   "outputs": [],
   "source": [
    "print(list(range(10)))"
   ]
  },
  {
   "cell_type": "markdown",
   "metadata": {},
   "source": [
    ">コード途中までデバッグができるコマンド\n",
    "import pdb; pdb.set_trace()"
   ]
  },
  {
   "cell_type": "markdown",
   "metadata": {},
   "source": [
    "for文などの中で、プログラムを途中で終了させる sys.exit()"
   ]
  },
  {
   "cell_type": "code",
   "execution_count": null,
   "metadata": {},
   "outputs": [],
   "source": [
    "# ABC085C\n",
    "import sys\n",
    "\n",
    "n, s = map(int, input().split())\n",
    "\n",
    "for x in range(n+1):\n",
    "    for y in range((n+1)-x):\n",
    "        z = n - (x+y)\n",
    "        if s == 10000*x + 5000*y + 1000*z:\n",
    "            print(x, y, z)\n",
    "            sys.exit()\n",
    "            \n",
    "print(-1, -1, -1)"
   ]
  }
 ],
 "metadata": {
  "kernelspec": {
   "display_name": "Python 3",
   "language": "python",
   "name": "python3"
  },
  "language_info": {
   "codemirror_mode": {
    "name": "ipython",
    "version": 3
   },
   "file_extension": ".py",
   "mimetype": "text/x-python",
   "name": "python",
   "nbconvert_exporter": "python",
   "pygments_lexer": "ipython3",
   "version": "3.8.3"
  }
 },
 "nbformat": 4,
 "nbformat_minor": 4
}
