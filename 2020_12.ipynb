{
 "cells": [
  {
   "cell_type": "markdown",
   "metadata": {},
   "source": [
    "### *20201218*"
   ]
  },
  {
   "cell_type": "markdown",
   "metadata": {},
   "source": [
    "[Atcoder版！蟻本（初級編）](https://qiita.com/drken/items/e77685614f3c6bf86f44)\n",
    "\n",
    "2-1-1 部分和問題"
   ]
  },
  {
   "cell_type": "markdown",
   "metadata": {},
   "source": [
    "[ビット演算](https://qiita.com/drken/items/7c6ff2aa4d8fce1c9361)"
   ]
  },
  {
   "cell_type": "markdown",
   "metadata": {},
   "source": [
    "### *20201229*"
   ]
  },
  {
   "cell_type": "markdown",
   "metadata": {},
   "source": [
    "['Pythonではじめるアルゴリズム入門'](https://www.amazon.co.jp/Python%E3%81%A7%E3%81%AF%E3%81%98%E3%82%81%E3%82%8B%E3%82%A2%E3%83%AB%E3%82%B4%E3%83%AA%E3%82%BA%E3%83%A0%E5%85%A5%E9%96%80-%E4%BC%9D%E7%B5%B1%E7%9A%84%E3%81%AA%E3%82%A2%E3%83%AB%E3%82%B4%E3%83%AA%E3%82%BA%E3%83%A0%E3%81%A7%E5%AD%A6%E3%81%B6%E5%AE%9A%E7%9F%B3%E3%81%A8%E8%A8%88%E7%AE%97%E9%87%8F-%E5%A2%97%E4%BA%95-%E6%95%8F%E5%85%8B-ebook/dp/B0822N5RMS) でアルゴリズム勉強する"
   ]
  },
  {
   "cell_type": "markdown",
   "metadata": {},
   "source": [
    "### 1.7 リスト内包表記"
   ]
  },
  {
   "cell_type": "markdown",
   "metadata": {},
   "source": [
    "#### リスト内包表記"
   ]
  },
  {
   "cell_type": "code",
   "execution_count": 2,
   "metadata": {},
   "outputs": [
    {
     "data": {
      "text/plain": [
       "[0, 1, 2, 3, 4, 5, 6, 7, 8, 9]"
      ]
     },
     "execution_count": 2,
     "metadata": {},
     "output_type": "execute_result"
    }
   ],
   "source": [
    "data = [i for i in range(10)]\n",
    "data"
   ]
  },
  {
   "cell_type": "markdown",
   "metadata": {},
   "source": [
    "#### 条件指定のリスト生成"
   ]
  },
  {
   "cell_type": "code",
   "execution_count": 4,
   "metadata": {},
   "outputs": [
    {
     "data": {
      "text/plain": [
       "[0, 2, 4, 6, 8]"
      ]
     },
     "execution_count": 4,
     "metadata": {},
     "output_type": "execute_result"
    }
   ],
   "source": [
    "data = [i for i in range(10) if i  % 2 == 0]\n",
    "data"
   ]
  },
  {
   "cell_type": "markdown",
   "metadata": {},
   "source": [
    "> Markdownの使い方まとめ  \n",
    ">[Markdown記法サンプル集](https://qiita.com/tbpgr/items/989c6badefff69377da7)  \n",
    ">[Markdown記法](https://qiita.com/Blueman81/items/72ca43681d16d44e21ad)  \n",
    ">[Markdown記法チートシート](https://qiita.com/kamorits/items/6f342da395ad57468ae3)"
   ]
  },
  {
   "cell_type": "markdown",
   "metadata": {},
   "source": [
    "### 1.8 関数とクラス"
   ]
  },
  {
   "cell_type": "markdown",
   "metadata": {},
   "source": [
    "#### 値渡しと参照渡し"
   ]
  },
  {
   "cell_type": "code",
   "execution_count": 6,
   "metadata": {},
   "outputs": [
    {
     "data": {
      "text/plain": [
       "8"
      ]
     },
     "execution_count": 6,
     "metadata": {},
     "output_type": "execute_result"
    }
   ],
   "source": [
    "def add(a, b):\n",
    "    return a + b\n",
    "\n",
    "x = 3\n",
    "y = 5\n",
    "add(x, y)"
   ]
  },
  {
   "cell_type": "markdown",
   "metadata": {},
   "source": [
    "a,b が仮引数、x,y が実引数  \n",
    "- 仮引数に実引数の値をコピーして渡す → '値渡し'\n",
    "- 仮引数に実引数のアドレスを渡す → '参照渡し'"
   ]
  },
  {
   "cell_type": "markdown",
   "metadata": {},
   "source": [
    "#### 変数の有効範囲"
   ]
  },
  {
   "cell_type": "markdown",
   "metadata": {},
   "source": [
    "可能な限りグローバル関数は使わない"
   ]
  },
  {
   "cell_type": "markdown",
   "metadata": {},
   "source": [
    "#### オブジェクト指向とクラス"
   ]
  },
  {
   "cell_type": "markdown",
   "metadata": {},
   "source": [
    "クラスを定義してインスタンスを作成  \n",
    "- 最初の引数は`self`  \n",
    "- `__init__`はコンストラクタといいオブジェクト生成時に必ず呼び出されるメソッド。データなどを初期化するために使われる。"
   ]
  },
  {
   "cell_type": "code",
   "execution_count": 13,
   "metadata": {},
   "outputs": [
    {
     "name": "stdout",
     "output_type": "stream",
     "text": [
      "logout\n"
     ]
    }
   ],
   "source": [
    "#Userというクラスを定義\n",
    "class User:\n",
    "    #コンストラクタの定義\n",
    "    def __init__(self, name, password):\n",
    "        self.name = name \n",
    "        self.password = password\n",
    "    #ログインメソッドの定義\n",
    "    def login(self, password):\n",
    "        if self.password == password:\n",
    "            return True\n",
    "        else:\n",
    "            return False\n",
    "    #ログアウトメソッドの定義\n",
    "    def logout(self):\n",
    "        print('logout')\n",
    "\n",
    "#Userのインスタンスを作成\n",
    "a = User('admin', 'password')\n",
    "if a.login('password'):\n",
    "    a.logout()"
   ]
  },
  {
   "cell_type": "markdown",
   "metadata": {},
   "source": [
    "クラスの継承\n",
    "- 既存のクラスから特徴を引き継いだ新たなクラスを作る"
   ]
  },
  {
   "cell_type": "code",
   "execution_count": 15,
   "metadata": {},
   "outputs": [
    {
     "name": "stdout",
     "output_type": "stream",
     "text": [
      "logout\n"
     ]
    }
   ],
   "source": [
    "#基底クラスのUserクラスからGuestUserクラスを定義\n",
    "class GuestUser(User):\n",
    "    def __init__(self):\n",
    "        super().__init__('guest', 'guest')\n",
    "        \n",
    "b = GuestUser()\n",
    "if b.login('guest'):\n",
    "    b.logout()"
   ]
  },
  {
   "cell_type": "markdown",
   "metadata": {},
   "source": [
    "- `_`で始まる変数やメソッドは外部から参照しない\n",
    "- `__`で始まる変数やメソッドにアクセスするとエラー発生"
   ]
  },
  {
   "cell_type": "code",
   "execution_count": 16,
   "metadata": {},
   "outputs": [
    {
     "ename": "AttributeError",
     "evalue": "'User' object has no attribute '__password'",
     "output_type": "error",
     "traceback": [
      "\u001b[0;31m---------------------------------------------------------------------------\u001b[0m",
      "\u001b[0;31mAttributeError\u001b[0m                            Traceback (most recent call last)",
      "\u001b[0;32m<ipython-input-16-4c3dcd691a56>\u001b[0m in \u001b[0;36m<module>\u001b[0;34m\u001b[0m\n\u001b[1;32m      6\u001b[0m \u001b[0mc\u001b[0m \u001b[0;34m=\u001b[0m \u001b[0mUser\u001b[0m\u001b[0;34m(\u001b[0m\u001b[0;34m'admin'\u001b[0m\u001b[0;34m,\u001b[0m \u001b[0;34m'password'\u001b[0m\u001b[0;34m)\u001b[0m\u001b[0;34m\u001b[0m\u001b[0;34m\u001b[0m\u001b[0m\n\u001b[1;32m      7\u001b[0m \u001b[0mc\u001b[0m\u001b[0;34m.\u001b[0m\u001b[0mname\u001b[0m\u001b[0;34m\u001b[0m\u001b[0;34m\u001b[0m\u001b[0m\n\u001b[0;32m----> 8\u001b[0;31m \u001b[0mc\u001b[0m\u001b[0;34m.\u001b[0m\u001b[0m__password\u001b[0m\u001b[0;34m\u001b[0m\u001b[0;34m\u001b[0m\u001b[0m\n\u001b[0m",
      "\u001b[0;31mAttributeError\u001b[0m: 'User' object has no attribute '__password'"
     ]
    }
   ],
   "source": [
    "class User:\n",
    "    def __init__(self, name, password):\n",
    "        self.name = name\n",
    "        self.__password = password\n",
    "        \n",
    "c = User('admin', 'password')\n",
    "c.name\n",
    "c.__password"
   ]
  },
  {
   "cell_type": "markdown",
   "metadata": {},
   "source": []
  },
  {
   "cell_type": "markdown",
   "metadata": {},
   "source": [
    "### *20201230*"
   ]
  },
  {
   "cell_type": "markdown",
   "metadata": {},
   "source": [
    "第1章理解度チェック"
   ]
  },
  {
   "cell_type": "code",
   "execution_count": 4,
   "metadata": {},
   "outputs": [
    {
     "name": "stdout",
     "output_type": "stream",
     "text": [
      "3\n",
      "7\n",
      "3\n"
     ]
    }
   ],
   "source": [
    "#問題１\n",
    "x = 3\n",
    "def calc(x):\n",
    "    x += 4\n",
    "    return x\n",
    "\n",
    "print(x) #3\n",
    "print(calc(x)) #7\n",
    "print(x) #7"
   ]
  },
  {
   "cell_type": "code",
   "execution_count": 5,
   "metadata": {},
   "outputs": [
    {
     "name": "stdout",
     "output_type": "stream",
     "text": [
      "[3]\n",
      "[7]\n",
      "[7]\n"
     ]
    }
   ],
   "source": [
    "#問題２\n",
    "a = [3]\n",
    "def calc(a):\n",
    "    a[0] += 4\n",
    "    return a\n",
    "\n",
    "print(a) #3\n",
    "print(calc(a)) #7\n",
    "print(a) #7"
   ]
  },
  {
   "cell_type": "code",
   "execution_count": 6,
   "metadata": {},
   "outputs": [
    {
     "name": "stdout",
     "output_type": "stream",
     "text": [
      "[3]\n",
      "[4]\n",
      "[3]\n"
     ]
    }
   ],
   "source": [
    "#問題３\n",
    "a = [3]\n",
    "def calc(a):\n",
    "    a = [4]\n",
    "    return a\n",
    "\n",
    "print(a) #3\n",
    "print(calc(a)) #4\n",
    "print(a) #4"
   ]
  },
  {
   "cell_type": "markdown",
   "metadata": {},
   "source": [
    "- immutable型：関数の中で書き換えられない。整数、浮動小数点数、文字列、タプル  \n",
    "- mutable型：関数の中で書き換えられる。リスト、辞書型（dict）、集合型（set）"
   ]
  },
  {
   "cell_type": "markdown",
   "metadata": {},
   "source": [
    "### 2.2 FizzBuzzの実装"
   ]
  },
  {
   "cell_type": "markdown",
   "metadata": {},
   "source": [
    "**Q.** 1から100までの数を順に出力するプログラムを作成しなさい。ただし、３の倍数のときは代わりに「Fizz」、５の倍数のときは「Buzz」、３と５の両方の倍数のときは「FizzBuzz」を出力するものとする。"
   ]
  },
  {
   "cell_type": "code",
   "execution_count": 8,
   "metadata": {},
   "outputs": [
    {
     "name": "stdout",
     "output_type": "stream",
     "text": [
      "1 2 3 4 5 6 7 8 9 10 11 12 13 14 15 16 17 18 19 20 21 22 23 24 25 26 27 28 29 30 31 32 33 34 35 36 37 38 39 40 41 42 43 44 45 46 47 48 49 50 "
     ]
    }
   ],
   "source": [
    "# fizzbuzz1.py\n",
    "# 1から50まで表示\n",
    "for i in range(1, 51):\n",
    "    print(i, end=' ')"
   ]
  },
  {
   "cell_type": "code",
   "execution_count": 9,
   "metadata": {},
   "outputs": [
    {
     "name": "stdout",
     "output_type": "stream",
     "text": [
      "1 2 Fizz 4 5 Fizz 7 8 Fizz 10 11 Fizz 13 14 Fizz 16 17 Fizz 19 20 Fizz 22 23 Fizz 25 26 Fizz 28 29 Fizz 31 32 Fizz 34 35 Fizz 37 38 Fizz 40 41 Fizz 43 44 Fizz 46 47 Fizz 49 50 "
     ]
    }
   ],
   "source": [
    "# fizzbuzz2.py\n",
    "# ３の倍数のときに「Fizz」出力\n",
    "for i in range(1, 51):\n",
    "    if i%3 == 0:\n",
    "        print('Fizz', end=' ')\n",
    "    else:\n",
    "        print(i, end=' ')"
   ]
  },
  {
   "cell_type": "code",
   "execution_count": 10,
   "metadata": {},
   "outputs": [
    {
     "name": "stdout",
     "output_type": "stream",
     "text": [
      "1 2 Fizz 4 Buzz Fizz 7 8 Fizz Buzz 11 Fizz 13 14 Fizz 16 17 Fizz 19 Buzz Fizz 22 23 Fizz Buzz 26 Fizz 28 29 Fizz 31 32 Fizz 34 Buzz Fizz 37 38 Fizz Buzz 41 Fizz 43 44 Fizz 46 47 Fizz 49 Buzz "
     ]
    }
   ],
   "source": [
    "# fizzbuzz3.py\n",
    "# ３の倍数のときに「Fizz」出力、５の倍数のときに「Buzz」出力\n",
    "for i in range(1, 51):\n",
    "    if i % 3 == 0:\n",
    "        print('Fizz', end=' ')\n",
    "    elif i % 5 == 0:\n",
    "        print('Buzz', end=' ')\n",
    "    else:\n",
    "        print(i, end=' ')"
   ]
  },
  {
   "cell_type": "code",
   "execution_count": 12,
   "metadata": {},
   "outputs": [
    {
     "name": "stdout",
     "output_type": "stream",
     "text": [
      "1 2 Fizz 4 Buzz Fizz 7 8 Fizz Buzz 11 Fizz 13 14 FizzBuzz 16 17 Fizz 19 Buzz Fizz 22 23 Fizz Buzz 26 Fizz 28 29 FizzBuzz 31 32 Fizz 34 Buzz Fizz 37 38 Fizz Buzz 41 Fizz 43 44 FizzBuzz 46 47 Fizz 49 Buzz "
     ]
    }
   ],
   "source": [
    "# fizzbuzz4.py\n",
    "# ３の倍数のときに「Fizz」出力、５の倍数のときに「Buzz」出力、３と５の倍数のときに「FizzBuzz」出力\n",
    "for i in range(1, 51):\n",
    "    if i % 3 == 0:\n",
    "        if i % 5 == 0:\n",
    "            print('FizzBuzz', end = ' ')\n",
    "        else:\n",
    "            print('Fizz', end = ' ')\n",
    "    elif i % 5 == 0:\n",
    "        print('Buzz', end = ' ')\n",
    "    else:\n",
    "        print(i, end = ' ')"
   ]
  },
  {
   "cell_type": "code",
   "execution_count": 13,
   "metadata": {},
   "outputs": [
    {
     "name": "stdout",
     "output_type": "stream",
     "text": [
      "1 2 Fizz 4 Buzz Fizz 7 8 Fizz Buzz 11 Fizz 13 14 FizzBuzz 16 17 Fizz 19 Buzz Fizz 22 23 Fizz Buzz 26 Fizz 28 29 FizzBuzz 31 32 Fizz 34 Buzz Fizz 37 38 Fizz Buzz 41 Fizz 43 44 FizzBuzz 46 47 Fizz 49 Buzz "
     ]
    }
   ],
   "source": [
    "# fizzbuzz5.py\n",
    "# ３の倍数のときに「Fizz」出力、５の倍数のときに「Buzz」出力、３と５の倍数のときに「FizzBuzz」出力\n",
    "for i in range(1, 51):\n",
    "    if (i % 3 == 0) and (i % 5 == 0):\n",
    "        print('FizzBuzz', end=' ')\n",
    "    elif i % 3 == 0:\n",
    "        print('Fizz', end=' ')\n",
    "    elif i % 5 == 0:\n",
    "        print('Buzz', end=' ')\n",
    "    else:\n",
    "        print(i, end=' ')"
   ]
  },
  {
   "cell_type": "markdown",
   "metadata": {},
   "source": [
    "### 2.3 お釣り計算"
   ]
  },
  {
   "cell_type": "markdown",
   "metadata": {},
   "source": [
    "お釣りの金額計算をする。お釣りの枚数をもっとも少なくする。\n",
    "- 割り算 `//` で枚数求める  \n",
    "- 余り `%`で残金を求める"
   ]
  },
  {
   "cell_type": "code",
   "execution_count": 14,
   "metadata": {},
   "outputs": [
    {
     "name": "stdout",
     "output_type": "stream",
     "text": [
      "insert: 5000\n",
      "product: 350\n",
      "5000: 0\n",
      "1000: 4\n",
      "500: 1\n",
      "100: 1\n",
      "50: 1\n",
      "10: 0\n",
      "5: 0\n",
      "1: 0\n"
     ]
    }
   ],
   "source": [
    "# vending_machine2.py\n",
    "\n",
    "#お釣りの金額を求める\n",
    "insert_price = input('insert: ')\n",
    "product_price = input('product: ')\n",
    "change = int(insert_price) - int(product_price)\n",
    "\n",
    "# 5000円札の枚数を求める\n",
    "r5000 = change // 5000\n",
    "q5000 = change % 5000\n",
    "print('5000: ' + str(r5000))\n",
    "\n",
    "# 1000円札の枚数を求める\n",
    "r1000 = q5000 // 1000\n",
    "q1000 = q5000 %1000\n",
    "print('1000: ' + str(r1000))\n",
    "\n",
    "# 500円玉の枚数を求める\n",
    "r500 = q1000 // 500\n",
    "q500 = q1000 % 500\n",
    "print('500: ' + str(r500))\n",
    "\n",
    "# 100円玉の枚数を求める\n",
    "r100 = q500 // 100\n",
    "q100 = q500 % 100\n",
    "print('100: ' + str(r100))\n",
    "\n",
    "# 50円玉の枚数を求める\n",
    "r50 = q100 // 50\n",
    "q50 = q100 % 50\n",
    "print('50: ' + str(r50))\n",
    "\n",
    "# 10円玉の枚数を求める\n",
    "r10 = q50 //10\n",
    "q10 = q50 % 10\n",
    "print('10: ' + str(q10))\n",
    "\n",
    "# 5円玉の枚数を求める\n",
    "r5 = q10 // 5\n",
    "q5 = q10 % 5\n",
    "print('5: ' + str(q5))\n",
    "\n",
    "# 1円玉の枚数を求める\n",
    "r1 = q5 // 1\n",
    "q1 = q5 % 1\n",
    "print('1: ' + str(q1))"
   ]
  },
  {
   "cell_type": "markdown",
   "metadata": {},
   "source": [
    "- リストとループでシンプルな実装にする"
   ]
  },
  {
   "cell_type": "code",
   "execution_count": 15,
   "metadata": {},
   "outputs": [
    {
     "name": "stdout",
     "output_type": "stream",
     "text": [
      "insert: 5000\n",
      "product: 350\n",
      "5000: 0\n",
      "1000: 4\n",
      "500: 1\n",
      "100: 1\n",
      "50: 1\n",
      "10: 0\n",
      "5: 0\n",
      "1: 0\n"
     ]
    }
   ],
   "source": [
    "# vending_machine3.py\n",
    "\n",
    "insert_price = input('insert: ')\n",
    "product_price = input('product: ')\n",
    "change = int(insert_price) - int(product_price)\n",
    "\n",
    "coin = [5000, 1000, 500, 100, 50, 10, 5, 1]\n",
    "\n",
    "for i in coin:\n",
    "    r = change // i\n",
    "    change %= i\n",
    "    print(str(i) + ': ' + str(r))"
   ]
  },
  {
   "cell_type": "markdown",
   "metadata": {},
   "source": [
    "- 不適切な入力に対応する\n",
    "- 入力された金額が数字かどうか判定する`isdecimal`関数"
   ]
  },
  {
   "cell_type": "code",
   "execution_count": 19,
   "metadata": {},
   "outputs": [
    {
     "name": "stdout",
     "output_type": "stream",
     "text": [
      "insert: 5000\n",
      "product: 350\n",
      "5000: 0\n",
      "1000: 4\n",
      "500: 1\n",
      "100: 1\n",
      "50: 1\n",
      "10: 0\n",
      "5: 0\n",
      "1: 0\n"
     ]
    }
   ],
   "source": [
    "# vending_machine4.py\n",
    "\n",
    "import sys #エラー時に強制終了するためのモジュール\n",
    "\n",
    "insert_price = input('insert: ')\n",
    "if not insert_price.isdecimal():\n",
    "    print('整数を入力してください')\n",
    "    sys.exit()\n",
    "    \n",
    "product_price = input('product: ')\n",
    "if not product_price.isdecimal():\n",
    "    print('整数を入力してください')\n",
    "    sys.exit()\n",
    "    \n",
    "change = int(insert_price) - int(product_price)\n",
    "\n",
    "if change < 0:\n",
    "    print('金額が不足しています')\n",
    "    sys.exit()\n",
    "    \n",
    "coin = [5000, 1000, 500, 100, 50, 10, 5, 1]\n",
    "\n",
    "for i in coin:\n",
    "    r = change // i\n",
    "    change %= i\n",
    "    print(str(i) + ': ' + str(r))"
   ]
  },
  {
   "cell_type": "markdown",
   "metadata": {},
   "source": [
    "`divmod`関数  \n",
    "- `divmod(a, b)`は`(a // b, a % b)`と同じ"
   ]
  },
  {
   "cell_type": "code",
   "execution_count": 21,
   "metadata": {},
   "outputs": [
    {
     "name": "stdout",
     "output_type": "stream",
     "text": [
      "insert: 500\n",
      "product: 500\n",
      "5000: 0\n",
      "1000: 0\n",
      "500: 0\n",
      "100: 0\n",
      "50: 0\n",
      "10: 0\n",
      "5: 0\n",
      "1: 0\n"
     ]
    }
   ],
   "source": [
    "# vending_machine5.py\n",
    "\n",
    "insert_price = input('insert: ')\n",
    "product_price = input('product: ')\n",
    "change = int(insert_price) - int(product_price)\n",
    "\n",
    "coin = [5000, 1000, 500, 100, 50, 10, 5, 1]\n",
    "\n",
    "for i in coin:\n",
    "    r, change = divmod(change, i)\n",
    "    \n",
    "    print(str(i) + ': ' + str(r))"
   ]
  },
  {
   "cell_type": "markdown",
   "metadata": {},
   "source": [
    "### *20201231*"
   ]
  },
  {
   "cell_type": "markdown",
   "metadata": {},
   "source": [
    "### 2.4 基数を変換する"
   ]
  },
  {
   "cell_type": "markdown",
   "metadata": {},
   "source": [
    "１０進数から２進数に変換する\n",
    "- 18(10)を変換→2で割って余りを求める、を商が0になるまで繰り返す"
   ]
  },
  {
   "cell_type": "code",
   "execution_count": 23,
   "metadata": {},
   "outputs": [
    {
     "name": "stdout",
     "output_type": "stream",
     "text": [
      "10010\n",
      "200\n",
      "22\n"
     ]
    }
   ],
   "source": [
    "# convert2.py\n",
    "\n",
    "n = 18\n",
    "\n",
    "def convert(n, base):\n",
    "    result = ''\n",
    "    \n",
    "    while n > 0:\n",
    "        result = str(n % base) + result\n",
    "        n //= base\n",
    "        \n",
    "    return result\n",
    "\n",
    "print(convert(n, 2))\n",
    "print(convert(n, 3))\n",
    "print(convert(n, 8))"
   ]
  },
  {
   "cell_type": "markdown",
   "metadata": {},
   "source": [
    "１０進数から２進数に変換する\n",
    "- i 桁目に基数の累乗(桁数 - 桁番 - 1)をかけて足す"
   ]
  },
  {
   "cell_type": "code",
   "execution_count": 24,
   "metadata": {},
   "outputs": [
    {
     "name": "stdout",
     "output_type": "stream",
     "text": [
      "18\n"
     ]
    }
   ],
   "source": [
    "# convert3.py\n",
    "\n",
    "n = '10010'\n",
    "\n",
    "result = 0\n",
    "for i in range(len(n)):\n",
    "    result += int(n[i]) * (2 ** (len(n) - i - 1))\n",
    "    \n",
    "print(result)"
   ]
  },
  {
   "cell_type": "markdown",
   "metadata": {},
   "source": [
    "- １０進数から２進数の変換には、`bin`関数が用意されている  \n",
    "- int関数の引数に2を指定すると２進数の文字列を１０進数に変換できる"
   ]
  },
  {
   "cell_type": "code",
   "execution_count": 1,
   "metadata": {},
   "outputs": [
    {
     "name": "stdout",
     "output_type": "stream",
     "text": [
      "0b10010\n",
      "18\n"
     ]
    }
   ],
   "source": [
    "# convert4.py\n",
    "\n",
    "a = 18\n",
    "print(bin(a))\n",
    "\n",
    "b = '10010'\n",
    "print(int(b,2))"
   ]
  },
  {
   "cell_type": "markdown",
   "metadata": {},
   "source": [
    "ビット演算"
   ]
  },
  {
   "cell_type": "code",
   "execution_count": 8,
   "metadata": {},
   "outputs": [
    {
     "name": "stdout",
     "output_type": "stream",
     "text": [
      "a=0b10010\n",
      "ビット反転: -0b10011\n",
      "b=0b11001\n",
      "論理積: 0b10000\n",
      "論理和: 0b11011\n",
      "排他的論理和: 0b1011\n",
      "左シフト: 0b100100\n",
      "右シフト: 0b110\n"
     ]
    }
   ],
   "source": [
    "a = 0b10010\n",
    "print('a=' + bin(a))\n",
    "print('ビット反転: ' + bin(~a))\n",
    "b = 0b11001\n",
    "print('b=' + bin(b))\n",
    "\n",
    "print('論理積: ' + bin(a&b))\n",
    "\n",
    "print('論理和: ' + bin(a|b))\n",
    "\n",
    "print('排他的論理和: ' + bin(a^b))\n",
    "\n",
    "print('左シフト: ' + bin(a << 1))\n",
    "\n",
    "print('右シフト: ' + bin(b >> 2))"
   ]
  },
  {
   "cell_type": "code",
   "execution_count": null,
   "metadata": {},
   "outputs": [],
   "source": []
  }
 ],
 "metadata": {
  "kernelspec": {
   "display_name": "Python 3",
   "language": "python",
   "name": "python3"
  },
  "language_info": {
   "codemirror_mode": {
    "name": "ipython",
    "version": 3
   },
   "file_extension": ".py",
   "mimetype": "text/x-python",
   "name": "python",
   "nbconvert_exporter": "python",
   "pygments_lexer": "ipython3",
   "version": "3.8.3"
  }
 },
 "nbformat": 4,
 "nbformat_minor": 4
}
