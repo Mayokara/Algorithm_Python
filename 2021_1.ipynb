{
 "cells": [
  {
   "cell_type": "markdown",
   "metadata": {},
   "source": [
    "### *20210101*"
   ]
  },
  {
   "cell_type": "markdown",
   "metadata": {},
   "source": [
    "### 2.5 素数を判定する"
   ]
  },
  {
   "cell_type": "markdown",
   "metadata": {},
   "source": [
    "素数か調べるプログラムを作成する\n",
    "- １以外で割り切れる整数が見つかった時点で探索終了\n",
    "- その数の平方根まで探せば十分"
   ]
  },
  {
   "cell_type": "code",
   "execution_count": null,
   "metadata": {},
   "outputs": [],
   "source": [
    "# is_prime2.py\n",
    "\n",
    "import math # 平方根を求めるのに使う数学のモジュール\n",
    "\n",
    "def is_prime(n):\n",
    "    if n <= 1:\n",
    "        return False\n",
    "    for i in range(2, int(math.sqrt(n)) + 1):\n",
    "        if n % i == 0:\n",
    "            return False\n",
    "    return True\n",
    "\n",
    "for i in range(200):\n",
    "    if is_prime(i):\n",
    "        print(i, end=' ')"
   ]
  },
  {
   "cell_type": "markdown",
   "metadata": {},
   "source": [
    "高速に素数を求める方法「エラトステネスの篩」"
   ]
  },
  {
   "cell_type": "code",
   "execution_count": null,
   "metadata": {},
   "outputs": [],
   "source": [
    "# eratosthenes.py\n",
    "\n",
    "import math\n",
    "\n",
    "def get_prime(n):\n",
    "    if n <= 1:\n",
    "        return []\n",
    "    prime = [2]\n",
    "    limit = int(math.sqrt(n))\n",
    "    \n",
    "    #奇数のリストを作成\n",
    "    data = [i + 1 for i in range(2, n, 2)]\n",
    "    while limit > data[0]:\n",
    "        prime.append(data[0])\n",
    "        #割り切れない数だけを取り出す\n",
    "        data = [j for j in data if j % data[0] != 0]\n",
    "        \n",
    "    return prime + data\n",
    "    \n",
    "print(get_prime(200))"
   ]
  },
  {
   "cell_type": "markdown",
   "metadata": {},
   "source": [
    "### *20210102*"
   ]
  },
  {
   "cell_type": "markdown",
   "metadata": {},
   "source": [
    "### 2.6 フィボナッチ数列"
   ]
  },
  {
   "cell_type": "code",
   "execution_count": null,
   "metadata": {},
   "outputs": [],
   "source": [
    "# fibonacci1.py\n",
    "\n",
    "def fibonacci(n):\n",
    "    if (n == 1) or (n ==2):\n",
    "        return 1\n",
    "    return fibonacci(n - 2) + fibonacci(n - 1)"
   ]
  },
  {
   "cell_type": "markdown",
   "metadata": {},
   "source": [
    "### *20210106*"
   ]
  },
  {
   "cell_type": "markdown",
   "metadata": {},
   "source": [
    "関数の中から自身の関数を呼び出し→再帰関数"
   ]
  },
  {
   "cell_type": "markdown",
   "metadata": {},
   "source": [
    "メモ化によって処理を高速化する\n",
    "- 辞書を用意して、処理結果を記録する。一度計算したものは計算せずにすぐ返せるようになる。"
   ]
  },
  {
   "cell_type": "code",
   "execution_count": null,
   "metadata": {},
   "outputs": [],
   "source": [
    "# fibonacci3.py\n",
    "\n",
    "memo = {1: 1, 2: 1}\n",
    "def fibonacci(n):\n",
    "    if n in memo:\n",
    "        return memo[n]\n",
    "    \n",
    "    memo[n] = fibonacci(n - 2) + fibonacci(n - 1)\n",
    "    return memo[n]"
   ]
  },
  {
   "cell_type": "markdown",
   "metadata": {},
   "source": [
    "- 再帰を使わずにループで求める方法もある"
   ]
  },
  {
   "cell_type": "code",
   "execution_count": null,
   "metadata": {},
   "outputs": [],
   "source": [
    "# fibonacci4.py\n",
    "\n",
    "def fibonacci(n):\n",
    "    fib = [1, 1]\n",
    "    for i in range(2, n):\n",
    "        fib.append(fib[i - 2] + fib[i - 1])\n",
    "        \n",
    "    return fib[n - 1]"
   ]
  },
  {
   "cell_type": "markdown",
   "metadata": {},
   "source": [
    "- 同じ結果を求めるときにもさまざまな実装方法がある。  \n",
    "- 処理速度、ソースコードの保守性（読みやすさ、修正のしやすさ）などさまざまな基準がある。"
   ]
  },
  {
   "cell_type": "markdown",
   "metadata": {},
   "source": [
    "### *20210107*"
   ]
  },
  {
   "cell_type": "markdown",
   "metadata": {},
   "source": [
    "第2章理解度チェック"
   ]
  },
  {
   "cell_type": "code",
   "execution_count": null,
   "metadata": {},
   "outputs": [],
   "source": [
    "# 問題１\n",
    "def uru(n):\n",
    "    if n % 4 == 0:\n",
    "        if (n % 100 == 0) and (n % 400 != 0):\n",
    "                return False\n",
    "        else:\n",
    "                return True\n",
    "    else:\n",
    "        return False\n",
    "\n",
    "for i in range(1950, 2051):\n",
    "    if uru(i):\n",
    "        print(i, ' ')\n",
    "        "
   ]
  },
  {
   "cell_type": "code",
   "execution_count": null,
   "metadata": {},
   "outputs": [],
   "source": [
    "def gengo(n):\n",
    "    if n > 1868 and n < 1912:\n",
    "        return '明治'+str(n-1867)+'年'\n",
    "    elif n > 1911 and n < 1926:\n",
    "        return '大正'+str(n-1911)+'年'\n",
    "    elif n > 1925 and n < 1989:\n",
    "        return '昭和'+str(n-1925)+'年'\n",
    "    elif n > 1988 and n < 2019:\n",
    "        return '平成'+str(n-1988)+'年'\n",
    "    elif n > 2018 and n < 2020:\n",
    "        return '令和'+str(n-2018)+'年'\n",
    "    else:\n",
    "        return '変換できません'\n",
    "    \n",
    "century = input('century:')\n",
    "print(gengo(int(century)))"
   ]
  },
  {
   "cell_type": "markdown",
   "metadata": {},
   "source": [
    "### *20210121*"
   ]
  },
  {
   "cell_type": "markdown",
   "metadata": {},
   "source": [
    "### 3.1 計算コスト、実行時間、計算量"
   ]
  },
  {
   "cell_type": "markdown",
   "metadata": {},
   "source": [
    "「計算量」：環境や言語に依存せずアルゴリズムを評価するための言葉。\n",
    "- 時間計算量: 処理にどのくらい時間がかかるのか。命令を実行した回数を調べることで求められる。（ステップ数）\n",
    "- 空間計算量: メモリなどの記憶容量をどれくらい必要とするか  "
   ]
  },
  {
   "cell_type": "markdown",
   "metadata": {},
   "source": [
    "オーダー記法: 全体の計算量に大きな影響がない部分（`print`や`if`）を無視して計算量を記述  \n",
    "  ex.) O(*n*), O(log*n*)"
   ]
  },
  {
   "cell_type": "markdown",
   "metadata": {},
   "source": [
    "### 3.2 データ構造による計算量の違い"
   ]
  },
  {
   "cell_type": "markdown",
   "metadata": {},
   "source": [
    "連結リスト: １つの要素にデータだけでなく、次の要素のアドレスを合わせて持つ。  \n",
    "- データ挿入・削除に要する計算量はO(1)、対してリストはO(n)  \n",
    "- データ読み取りに要する計算量はO(n)、対してリストは要素番号を指定して読み取りするのでO(1)"
   ]
  },
  {
   "cell_type": "markdown",
   "metadata": {},
   "source": [
    "### 3.3 アルゴリズムの計算量と問題の計算量"
   ]
  },
  {
   "cell_type": "markdown",
   "metadata": {},
   "source": [
    "クラスP : O(n)やO(n^2)など、指数部分が整数で表されるもの。多項式時間のオーダー。"
   ]
  },
  {
   "cell_type": "markdown",
   "metadata": {},
   "source": [
    "指数関数O(2^n)や階乗O(n!)のアルゴリズム"
   ]
  },
  {
   "cell_type": "markdown",
   "metadata": {},
   "source": [
    "クラスNP: 非決定多項式時間のオーダーで処理可能なクラス。現在効率的なアルゴリズムは知られていない。  \n",
    "P ≠ NP 予想"
   ]
  },
  {
   "cell_type": "markdown",
   "metadata": {},
   "source": [
    "第3章理解度check"
   ]
  },
  {
   "cell_type": "markdown",
   "metadata": {},
   "source": [
    "(1) O(1)  \n",
    "(2) O(n^2)  \n",
    "(3) O(n)"
   ]
  },
  {
   "cell_type": "markdown",
   "metadata": {},
   "source": [
    "### 4.1 線形探索"
   ]
  },
  {
   "cell_type": "code",
   "execution_count": null,
   "metadata": {},
   "outputs": [],
   "source": [
    "# linear_search.py\n",
    "\n",
    "data = [50, 30, 90, 10, 20, 70, 60, 40, 80]\n",
    "found = False\n",
    "for i in range(len(data)):\n",
    "    if data[i] == 40:\n",
    "        print(i)\n",
    "        found = True\n",
    "        break\n",
    "        \n",
    "if not found:\n",
    "    print('Not Found')"
   ]
  },
  {
   "cell_type": "markdown",
   "metadata": {},
   "source": [
    "線形探索は関数として定義するのが一般的"
   ]
  },
  {
   "cell_type": "code",
   "execution_count": null,
   "metadata": {},
   "outputs": [],
   "source": [
    "# linear_search2.py\n",
    "\n",
    "def linear_search(data, value):\n",
    "    for i in range(len(data)):\n",
    "        if data[i] == value:\n",
    "            return i\n",
    "    return -1\n",
    "\n",
    "data = [50, 30, 90, 10, 20, 70, 60, 40, 80]\n",
    "print(linear_search(data, 40))"
   ]
  },
  {
   "cell_type": "markdown",
   "metadata": {},
   "source": [
    "### 4.2 二分探索"
   ]
  },
  {
   "cell_type": "markdown",
   "metadata": {},
   "source": [
    "データが規則的（昇順）に並んでる場合、中央値と比較して探索範囲を半分にする  "
   ]
  },
  {
   "cell_type": "code",
   "execution_count": null,
   "metadata": {},
   "outputs": [],
   "source": [
    "# binary_search.py\n",
    "\n",
    "def binary_search(data, value):\n",
    "    left = 0\n",
    "    right = len(data)-1\n",
    "    while left <= right:\n",
    "        mid = (left + right) // 2\n",
    "        if data[mid] == value:\n",
    "            return mid\n",
    "        elif data[mid] < value:\n",
    "            left = mid + 1\n",
    "        else:\n",
    "            right = mid - 1\n",
    "    return -1\n",
    "\n",
    "data = [10, 20, 30, 40, 50, 60, 70, 80, 90]\n",
    "print(binary_search(data, 90))"
   ]
  },
  {
   "cell_type": "markdown",
   "metadata": {},
   "source": [
    "- 二分探索の比較回数の増え方は対数ペース。O(log*n*)  \n",
    "- スキップリスト: 一部を読み飛ばせる連結リスト。効率よく探索できる。"
   ]
  },
  {
   "cell_type": "markdown",
   "metadata": {},
   "source": [
    "### 4.3 木構造の探索"
   ]
  },
  {
   "cell_type": "markdown",
   "metadata": {},
   "source": [
    "階層構造のデータの探索"
   ]
  },
  {
   "cell_type": "markdown",
   "metadata": {},
   "source": [
    "幅優先探索"
   ]
  },
  {
   "cell_type": "code",
   "execution_count": null,
   "metadata": {},
   "outputs": [],
   "source": [
    "# breadth_search.py\n",
    "\n",
    "tree = [[1, 2], [3, 4], [5, 6 ], [7, 8], [9, 10], [11, 12], [13, 14], [], [], [], [], [], [], [], []]\n",
    "\n",
    "data = [0]\n",
    "while len(data) > 0:\n",
    "    pos = data.pop(0)\n",
    "    print(pos, end=' ')\n",
    "    for i in tree[pos]:\n",
    "        data.append(i)"
   ]
  },
  {
   "cell_type": "markdown",
   "metadata": {},
   "source": [
    "> `pop`: 指定した位置の要素を削除し、値を取得するメソッド"
   ]
  },
  {
   "cell_type": "markdown",
   "metadata": {},
   "source": [
    "深さ優先探索: 決められた深さまで探索し進めなくなったら戻る。ノードを処理する順番「行きがけ順」「通りがけ順」「帰りがけ順」"
   ]
  },
  {
   "cell_type": "code",
   "execution_count": null,
   "metadata": {},
   "outputs": [],
   "source": [
    "# depth_search1.py\n",
    "# 行きがけ順\n",
    "\n",
    "tree = [[1, 2], [3, 4], [5, 6 ], [7, 8], [9, 10], [11, 12], [13, 14], [], [], [], [], [], [], [], []]\n",
    "\n",
    "def search(pos):\n",
    "    print(pos, end=' ')\n",
    "    for i in tree[pos]:\n",
    "        search(i)\n",
    "search(0)"
   ]
  },
  {
   "cell_type": "code",
   "execution_count": null,
   "metadata": {},
   "outputs": [],
   "source": [
    "# depth_search2.py\n",
    "# 帰りがけ順\n",
    "\n",
    "tree = [[1, 2], [3, 4], [5, 6 ], [7, 8], [9, 10], [11, 12], [13, 14], [], [], [], [], [], [], [], []]\n",
    "\n",
    "def search(pos):\n",
    "    for i in tree[pos]:\n",
    "        search(i)\n",
    "    print(pos, end='  ')\n",
    "\n",
    "search(0)"
   ]
  },
  {
   "cell_type": "code",
   "execution_count": null,
   "metadata": {},
   "outputs": [],
   "source": [
    "# depth_search3.py\n",
    "# 通りがけ順\n",
    "\n",
    "tree = [[1, 2], [3, 4], [5, 6 ], [7, 8], [9, 10], [11, 12], [13, 14], [], [], [], [], [], [], [], []]\n",
    "\n",
    "def search(pos):\n",
    "    if len(tree[pos]) == 2:\n",
    "        search(tree[pos][0])\n",
    "        print(pos, end=' ')\n",
    "        search(tree[pos][1])\n",
    "    elif len(tree[pos]) == 1:\n",
    "        search(tree[pos][0])\n",
    "        print(pos, end=' ')\n",
    "    else:\n",
    "        print(pos, end=' ')\n",
    "        \n",
    "search(0)"
   ]
  },
  {
   "cell_type": "markdown",
   "metadata": {},
   "source": [
    "- 再帰を使わずにループで実装も可能"
   ]
  },
  {
   "cell_type": "code",
   "execution_count": null,
   "metadata": {},
   "outputs": [],
   "source": [
    "# depth_search4.py\n",
    "# 帰りがけ順\n",
    "\n",
    "tree = [[1, 2], [3, 4], [5, 6 ], [7, 8], [9, 10], [11, 12], [13, 14], [], [], [], [], [], [], [], []]\n",
    "\n",
    "data =[0]\n",
    "while len(data) > 0:\n",
    "    pos = data.pop()\n",
    "    print(pos, end=' ')\n",
    "    for i in tree[pos]:\n",
    "        data.append(i)"
   ]
  },
  {
   "cell_type": "markdown",
   "metadata": {},
   "source": [
    "### *20210123*"
   ]
  },
  {
   "cell_type": "markdown",
   "metadata": {},
   "source": [
    "### 4.4 さまざまな例を実装"
   ]
  },
  {
   "cell_type": "markdown",
   "metadata": {},
   "source": [
    "迷路の探索(番兵)\n",
    "- 幅優先探索"
   ]
  },
  {
   "cell_type": "code",
   "execution_count": null,
   "metadata": {},
   "outputs": [],
   "source": [
    "# maze.py\n",
    "\n",
    "maze = [\n",
    "    [9, 9, 9, 9, 9, 9, 9, 9, 9, 9, 9, 9],\n",
    "    [9, 0, 0, 0, 9, 0, 0, 0, 0, 0, 0, 9],\n",
    "    [9, 0, 9, 0, 0, 0, 9, 9, 0, 9, 9, 9],\n",
    "    [9, 0, 9, 9, 0, 9, 0, 0, 0, 9, 0, 9],\n",
    "    [9, 0, 0, 0, 9, 0, 0, 9, 9, 0, 9, 9],\n",
    "    [9, 9, 9, 0, 0, 9, 0, 9, 0, 0, 0, 9],\n",
    "    [9, 0, 0, 0, 9, 0, 9, 0, 0, 9, 1, 9],\n",
    "    [9, 0, 9, 0, 0, 0, 0, 9, 0, 0, 9, 9],\n",
    "    [9, 0, 0, 9, 0, 9, 0, 0, 9, 0, 0, 9],\n",
    "    [9, 0, 9, 0, 9, 0, 9, 0, 0, 9, 0, 9],\n",
    "    [9, 0, 0, 0, 0, 0, 0, 9, 0, 0, 0, 9],\n",
    "    [9, 9, 9, 9, 9, 9, 9, 9, 9, 9, 9, 9]\n",
    "]\n",
    "\n",
    "pos = [[1, 1, 0]]\n",
    "\n",
    "while len(pos) > 0:\n",
    "    x, y, depth = pos.pop(0)\n",
    "    \n",
    "    if maze[x][y] == 1:\n",
    "        print(depth)\n",
    "        break\n",
    "        \n",
    "        maze[x][y] = 2\n",
    "        \n",
    "        #上下左右を探索\n",
    "        if maze[x - 1][y] < 2:\n",
    "            pos.append([x - 1, y, depth + 1])\n",
    "        if maze[x + 1][y] < 2:\n",
    "            pos.append([x + 1, y, depth + 1])\n",
    "        if maze[x][y - 1] < 2:\n",
    "            pos.append([x, y - 1, depth + 1])\n",
    "        if maze[x][y + 1] < 2:\n",
    "            pos.append([x, y + 1, depth + 1])"
   ]
  },
  {
   "cell_type": "markdown",
   "metadata": {},
   "source": [
    "- 深さ優先探索"
   ]
  },
  {
   "cell_type": "code",
   "execution_count": null,
   "metadata": {},
   "outputs": [],
   "source": [
    "# maze2.py\n",
    "\n",
    "maze = [\n",
    "    [9, 9, 9, 9, 9, 9, 9, 9, 9, 9, 9, 9],\n",
    "    [9, 0, 0, 0, 9, 0, 0, 0, 0, 0, 0, 9],\n",
    "    [9, 0, 9, 0, 0, 0, 9, 9, 0, 9, 9, 9],\n",
    "    [9, 0, 9, 9, 0, 9, 0, 0, 0, 9, 0, 9],\n",
    "    [9, 0, 0, 0, 9, 0, 0, 9, 9, 0, 9, 9],\n",
    "    [9, 9, 9, 0, 0, 9, 0, 9, 0, 0, 0, 9],\n",
    "    [9, 0, 0, 0, 9, 0, 9, 0, 0, 9, 1, 9],\n",
    "    [9, 0, 9, 0, 0, 0, 0, 9, 0, 0, 9, 9],\n",
    "    [9, 0, 0, 9, 0, 9, 0, 0, 9, 0, 0, 9],\n",
    "    [9, 0, 9, 0, 9, 0, 9, 0, 0, 9, 0, 9],\n",
    "    [9, 0, 0, 0, 0, 0, 0, 9, 0, 0, 0, 9],\n",
    "    [9, 9, 9, 9, 9, 9, 9, 9, 9, 9, 9, 9]\n",
    "]\n",
    "\n",
    "def search(x, y, depth):\n",
    "    if maze[x][y] == 1:\n",
    "        print(depth)\n",
    "        exit()\n",
    "        \n",
    "    maze[x][y] = 2\n",
    "    \n",
    "    if maze[x - 1][y] < 2:\n",
    "        search(x　-　1, y, depth + 1)\n",
    "    if maze[x + 1][y] < 2:\n",
    "        search(x + 1, y, depth + 1)\n",
    "    if maze[x][y - 1] < 2:\n",
    "        search(x, y - 1, depth + 1)\n",
    "    if maze[x][y + 1] < 2:\n",
    "        search(x, y + 1, depth + 1)\n",
    "        \n",
    "    maze[x][y] = 0\n",
    "    \n",
    "search(1, 1, 0)"
   ]
  },
  {
   "cell_type": "markdown",
   "metadata": {},
   "source": [
    "- 深さ優先探索（右手法）"
   ]
  },
  {
   "cell_type": "code",
   "execution_count": null,
   "metadata": {},
   "outputs": [],
   "source": [
    "# maze3.py\n",
    "\n",
    "maze = [\n",
    "    [9, 9, 9, 9, 9, 9, 9, 9, 9, 9, 9, 9],\n",
    "    [9, 0, 0, 0, 9, 0, 0, 0, 0, 0, 0, 9],\n",
    "    [9, 0, 9, 0, 0, 0, 9, 9, 0, 9, 9, 9],\n",
    "    [9, 0, 9, 9, 0, 9, 0, 0, 0, 9, 0, 9],\n",
    "    [9, 0, 0, 0, 9, 0, 0, 9, 9, 0, 9, 9],\n",
    "    [9, 9, 9, 0, 0, 9, 0, 9, 0, 0, 0, 9],\n",
    "    [9, 0, 0, 0, 9, 0, 9, 0, 0, 9, 1, 9],\n",
    "    [9, 0, 9, 0, 0, 0, 0, 9, 0, 0, 9, 9],\n",
    "    [9, 0, 0, 9, 0, 9, 0, 0, 9, 0, 0, 9],\n",
    "    [9, 0, 9, 0, 9, 0, 9, 0, 0, 9, 0, 9],\n",
    "    [9, 0, 0, 0, 0, 0, 0, 9, 0, 0, 0, 9],\n",
    "    [9, 9, 9, 9, 9, 9, 9, 9, 9, 9, 9, 9]\n",
    "]\n",
    "\n",
    "# 右手法での移動方向をセット\n",
    "dir = [[1, 0], [0, 1], [-1, 0], [0, -1]]\n",
    "\n",
    "x, y, depth, d = 1, 1, 0, 0\n",
    "\n",
    "while maze[x][y] != 1:\n",
    "    maze[x][y] = 2\n",
    "    \n",
    "    for i in range(len(dir)):\n",
    "        # 進行方向の右側から順に探す\n",
    "        j = (d + i -1) % len(dir)  \n",
    "        if maze[x + dir[j][0]][y + dir[j][1]] < 2:\n",
    "            x += dir[j][0]\n",
    "            y += dir[j][1]\n",
    "            d = j\n",
    "            depth += 1\n",
    "            break\n",
    "        elif maze[x + dir[j][0]][y + dir[j][1]] == 2:\n",
    "            x += dir[j][0]\n",
    "            y += dir[j][1]\n",
    "            d = j\n",
    "            depth -=1\n",
    "            break\n",
    "            \n",
    "print(depth)"
   ]
  },
  {
   "cell_type": "code",
   "execution_count": null,
   "metadata": {},
   "outputs": [],
   "source": [
    "# breakとcontinue\n",
    "\n",
    "for i in range(10):\n",
    "    if i % 2 == 0:\n",
    "        if (i + 1) % 5 == 0:\n",
    "            break\n",
    "        continue\n",
    "    print(i)"
   ]
  },
  {
   "cell_type": "markdown",
   "metadata": {},
   "source": [
    "### *20210124*"
   ]
  },
  {
   "cell_type": "markdown",
   "metadata": {},
   "source": [
    "8クイーン問題"
   ]
  },
  {
   "cell_type": "markdown",
   "metadata": {},
   "source": [
    "チェスの盤面に８つのクイーンを互いの利きに入らないように配置"
   ]
  },
  {
   "cell_type": "code",
   "execution_count": null,
   "metadata": {},
   "outputs": [],
   "source": [
    "# queen.py\n",
    "\n",
    "N = 8\n",
    "\n",
    "# 斜めのチェック\n",
    "def check(x, col):\n",
    "    for i, row in enumerate(reversed(col)):\n",
    "        if (x + i + 1 == row) or ( x - i - 1 == row):\n",
    "            return False\n",
    "    return True\n",
    "\n",
    "def search(col):\n",
    "    if len(col) == N: #すべて配置できれば出力\n",
    "        print(col)\n",
    "        return\n",
    "    \n",
    "    for i in range(N):\n",
    "        if i not in col: #同じ行使わない\n",
    "            if check(i, col):\n",
    "                col.append(i)\n",
    "                search(col)\n",
    "                col.pop()\n",
    "                \n",
    "search([])"
   ]
  },
  {
   "cell_type": "markdown",
   "metadata": {},
   "source": [
    "> `enumerate`: インデックス番号と要素を取り出す関数"
   ]
  },
  {
   "cell_type": "code",
   "execution_count": null,
   "metadata": {},
   "outputs": [],
   "source": []
  }
 ],
 "metadata": {
  "kernelspec": {
   "display_name": "Python 3",
   "language": "python",
   "name": "python3"
  },
  "language_info": {
   "codemirror_mode": {
    "name": "ipython",
    "version": 3
   },
   "file_extension": ".py",
   "mimetype": "text/x-python",
   "name": "python",
   "nbconvert_exporter": "python",
   "pygments_lexer": "ipython3",
   "version": "3.8.3"
  }
 },
 "nbformat": 4,
 "nbformat_minor": 4
}
