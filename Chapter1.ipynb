{
 "cells": [
  {
   "cell_type": "markdown",
   "metadata": {},
   "source": [
    "## 第1章 Pythonの基本とデータ構造を知る\n",
    "#### keyword: リスト内包表記, クラス, クラスの継承"
   ]
  },
  {
   "cell_type": "markdown",
   "metadata": {},
   "source": [
    "### *20201229*"
   ]
  },
  {
   "cell_type": "markdown",
   "metadata": {},
   "source": [
    "['Pythonではじめるアルゴリズム入門'](https://www.amazon.co.jp/Python%E3%81%A7%E3%81%AF%E3%81%98%E3%82%81%E3%82%8B%E3%82%A2%E3%83%AB%E3%82%B4%E3%83%AA%E3%82%BA%E3%83%A0%E5%85%A5%E9%96%80-%E4%BC%9D%E7%B5%B1%E7%9A%84%E3%81%AA%E3%82%A2%E3%83%AB%E3%82%B4%E3%83%AA%E3%82%BA%E3%83%A0%E3%81%A7%E5%AD%A6%E3%81%B6%E5%AE%9A%E7%9F%B3%E3%81%A8%E8%A8%88%E7%AE%97%E9%87%8F-%E5%A2%97%E4%BA%95-%E6%95%8F%E5%85%8B-ebook/dp/B0822N5RMS) でアルゴリズム勉強する"
   ]
  },
  {
   "cell_type": "markdown",
   "metadata": {},
   "source": [
    "### 1.7 リスト内包表記"
   ]
  },
  {
   "cell_type": "markdown",
   "metadata": {},
   "source": [
    "#### リスト内包表記"
   ]
  },
  {
   "cell_type": "code",
   "execution_count": null,
   "metadata": {},
   "outputs": [],
   "source": [
    "data = [i for i in range(10)]\n",
    "data"
   ]
  },
  {
   "cell_type": "markdown",
   "metadata": {},
   "source": [
    "#### 条件指定のリスト生成"
   ]
  },
  {
   "cell_type": "code",
   "execution_count": null,
   "metadata": {},
   "outputs": [],
   "source": [
    "data = [i for i in range(10) if i  % 2 == 0]\n",
    "data"
   ]
  },
  {
   "cell_type": "markdown",
   "metadata": {},
   "source": [
    "> Markdownの使い方まとめ  \n",
    ">[Markdown記法サンプル集](https://qiita.com/tbpgr/items/989c6badefff69377da7)  \n",
    ">[Markdown記法](https://qiita.com/Blueman81/items/72ca43681d16d44e21ad)  \n",
    ">[Markdown記法チートシート](https://qiita.com/kamorits/items/6f342da395ad57468ae3)"
   ]
  },
  {
   "cell_type": "markdown",
   "metadata": {},
   "source": [
    "### 1.8 関数とクラス"
   ]
  },
  {
   "cell_type": "markdown",
   "metadata": {},
   "source": [
    "#### 値渡しと参照渡し"
   ]
  },
  {
   "cell_type": "code",
   "execution_count": null,
   "metadata": {},
   "outputs": [],
   "source": [
    "def add(a, b):\n",
    "    return a + b\n",
    "\n",
    "x = 3\n",
    "y = 5\n",
    "add(x, y)"
   ]
  },
  {
   "cell_type": "markdown",
   "metadata": {},
   "source": [
    "a,b が仮引数、x,y が実引数  \n",
    "- 仮引数に実引数の値をコピーして渡す → '値渡し'\n",
    "- 仮引数に実引数のアドレスを渡す → '参照渡し'"
   ]
  },
  {
   "cell_type": "markdown",
   "metadata": {},
   "source": [
    "#### 変数の有効範囲"
   ]
  },
  {
   "cell_type": "markdown",
   "metadata": {},
   "source": [
    "可能な限りグローバル関数は使わない"
   ]
  },
  {
   "cell_type": "markdown",
   "metadata": {},
   "source": [
    "#### オブジェクト指向とクラス"
   ]
  },
  {
   "cell_type": "markdown",
   "metadata": {},
   "source": [
    "クラスを定義してインスタンスを作成  \n",
    "- 最初の引数は`self`  \n",
    "- `__init__`はコンストラクタといいオブジェクト生成時に必ず呼び出されるメソッド。データなどを初期化するために使われる。"
   ]
  },
  {
   "cell_type": "code",
   "execution_count": null,
   "metadata": {},
   "outputs": [],
   "source": [
    "#Userというクラスを定義\n",
    "class User:\n",
    "    #コンストラクタの定義\n",
    "    def __init__(self, name, password):\n",
    "        self.name = name \n",
    "        self.password = password\n",
    "    #ログインメソッドの定義\n",
    "    def login(self, password):\n",
    "        if self.password == password:\n",
    "            return True\n",
    "        else:\n",
    "            return False\n",
    "    #ログアウトメソッドの定義\n",
    "    def logout(self):\n",
    "        print('logout')\n",
    "\n",
    "#Userのインスタンスを作成\n",
    "a = User('admin', 'password')\n",
    "if a.login('password'):\n",
    "    a.logout()"
   ]
  },
  {
   "cell_type": "markdown",
   "metadata": {},
   "source": [
    "クラスの継承\n",
    "- 既存のクラスから特徴を引き継いだ新たなクラスを作る"
   ]
  },
  {
   "cell_type": "code",
   "execution_count": null,
   "metadata": {},
   "outputs": [],
   "source": [
    "#基底クラスのUserクラスからGuestUserクラスを定義\n",
    "class GuestUser(User):\n",
    "    def __init__(self):\n",
    "        super().__init__('guest', 'guest')\n",
    "        \n",
    "b = GuestUser()\n",
    "if b.login('guest'):\n",
    "    b.logout()"
   ]
  },
  {
   "cell_type": "markdown",
   "metadata": {},
   "source": [
    "- `_`で始まる変数やメソッドは外部から参照しない\n",
    "- `__`で始まる変数やメソッドにアクセスするとエラー発生"
   ]
  },
  {
   "cell_type": "code",
   "execution_count": null,
   "metadata": {},
   "outputs": [],
   "source": [
    "class User:\n",
    "    def __init__(self, name, password):\n",
    "        self.name = name\n",
    "        self.__password = password\n",
    "        \n",
    "c = User('admin', 'password')\n",
    "c.name\n",
    "c.__password"
   ]
  },
  {
   "cell_type": "markdown",
   "metadata": {},
   "source": [
    "### *20201230*"
   ]
  },
  {
   "cell_type": "markdown",
   "metadata": {},
   "source": [
    "第1章理解度チェック"
   ]
  },
  {
   "cell_type": "code",
   "execution_count": null,
   "metadata": {},
   "outputs": [],
   "source": [
    "#問題１\n",
    "x = 3\n",
    "def calc(x):\n",
    "    x += 4\n",
    "    return x\n",
    "\n",
    "print(x) #3\n",
    "print(calc(x)) #7\n",
    "print(x) #7"
   ]
  },
  {
   "cell_type": "code",
   "execution_count": null,
   "metadata": {},
   "outputs": [],
   "source": [
    "#問題２\n",
    "a = [3]\n",
    "def calc(a):\n",
    "    a[0] += 4\n",
    "    return a\n",
    "\n",
    "print(a) #3\n",
    "print(calc(a)) #7\n",
    "print(a) #7"
   ]
  },
  {
   "cell_type": "code",
   "execution_count": null,
   "metadata": {},
   "outputs": [],
   "source": [
    "#問題３\n",
    "a = [3]\n",
    "def calc(a):\n",
    "    a = [4]\n",
    "    return a\n",
    "\n",
    "print(a) #3\n",
    "print(calc(a)) #4\n",
    "print(a) #4"
   ]
  },
  {
   "cell_type": "markdown",
   "metadata": {},
   "source": [
    "- immutable型：関数の中で書き換えられない。整数、浮動小数点数、文字列、タプル  \n",
    "- mutable型：関数の中で書き換えられる。リスト、辞書型（dict）、集合型（set）"
   ]
  }
 ],
 "metadata": {
  "kernelspec": {
   "display_name": "Python 3",
   "language": "python",
   "name": "python3"
  },
  "language_info": {
   "codemirror_mode": {
    "name": "ipython",
    "version": 3
   },
   "file_extension": ".py",
   "mimetype": "text/x-python",
   "name": "python",
   "nbconvert_exporter": "python",
   "pygments_lexer": "ipython3",
   "version": "3.8.3"
  }
 },
 "nbformat": 4,
 "nbformat_minor": 4
}
