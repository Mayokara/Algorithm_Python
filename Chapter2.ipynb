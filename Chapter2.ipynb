{
 "cells": [
  {
   "cell_type": "markdown",
   "metadata": {},
   "source": [
    "## 第2章 基本的なプログラムを作ってみる \n",
    "#### keyword: FizzBuzz, お釣り計算, 基数変換, 素数判定, フィボナッチ数列, 再帰関数, メモ化"
   ]
  },
  {
   "cell_type": "markdown",
   "metadata": {},
   "source": [
    "### 2.2 FizzBuzzの実装"
   ]
  },
  {
   "cell_type": "markdown",
   "metadata": {},
   "source": [
    "**Q.** 1から100までの数を順に出力するプログラムを作成しなさい。ただし、３の倍数のときは代わりに「Fizz」、５の倍数のときは「Buzz」、３と５の両方の倍数のときは「FizzBuzz」を出力するものとする。"
   ]
  },
  {
   "cell_type": "code",
   "execution_count": null,
   "metadata": {},
   "outputs": [],
   "source": [
    "# fizzbuzz1.py\n",
    "# 1から50まで表示\n",
    "for i in range(1, 51):\n",
    "    print(i, end=' ')"
   ]
  },
  {
   "cell_type": "code",
   "execution_count": null,
   "metadata": {},
   "outputs": [],
   "source": [
    "# fizzbuzz2.py\n",
    "# ３の倍数のときに「Fizz」出力\n",
    "for i in range(1, 51):\n",
    "    if i%3 == 0:\n",
    "        print('Fizz', end=' ')\n",
    "    else:\n",
    "        print(i, end=' ')"
   ]
  },
  {
   "cell_type": "code",
   "execution_count": null,
   "metadata": {},
   "outputs": [],
   "source": [
    "# fizzbuzz3.py\n",
    "# ３の倍数のときに「Fizz」出力、５の倍数のときに「Buzz」出力\n",
    "for i in range(1, 51):\n",
    "    if i % 3 == 0:\n",
    "        print('Fizz', end=' ')\n",
    "    elif i % 5 == 0:\n",
    "        print('Buzz', end=' ')\n",
    "    else:\n",
    "        print(i, end=' ')"
   ]
  },
  {
   "cell_type": "code",
   "execution_count": null,
   "metadata": {},
   "outputs": [],
   "source": [
    "# fizzbuzz4.py\n",
    "# ３の倍数のときに「Fizz」出力、５の倍数のときに「Buzz」出力、３と５の倍数のときに「FizzBuzz」出力\n",
    "for i in range(1, 51):\n",
    "    if i % 3 == 0:\n",
    "        if i % 5 == 0:\n",
    "            print('FizzBuzz', end = ' ')\n",
    "        else:\n",
    "            print('Fizz', end = ' ')\n",
    "    elif i % 5 == 0:\n",
    "        print('Buzz', end = ' ')\n",
    "    else:\n",
    "        print(i, end = ' ')"
   ]
  },
  {
   "cell_type": "code",
   "execution_count": null,
   "metadata": {},
   "outputs": [],
   "source": [
    "# fizzbuzz5.py\n",
    "# ３の倍数のときに「Fizz」出力、５の倍数のときに「Buzz」出力、３と５の倍数のときに「FizzBuzz」出力\n",
    "for i in range(1, 51):\n",
    "    if (i % 3 == 0) and (i % 5 == 0):\n",
    "        print('FizzBuzz', end=' ')\n",
    "    elif i % 3 == 0:\n",
    "        print('Fizz', end=' ')\n",
    "    elif i % 5 == 0:\n",
    "        print('Buzz', end=' ')\n",
    "    else:\n",
    "        print(i, end=' ')"
   ]
  },
  {
   "cell_type": "markdown",
   "metadata": {},
   "source": [
    "### 2.3 お釣り計算"
   ]
  },
  {
   "cell_type": "markdown",
   "metadata": {},
   "source": [
    "お釣りの金額計算をする。お釣りの枚数をもっとも少なくする。\n",
    "- 割り算 `//` で枚数求める  \n",
    "- 余り `%`で残金を求める"
   ]
  },
  {
   "cell_type": "code",
   "execution_count": null,
   "metadata": {},
   "outputs": [],
   "source": [
    "# vending_machine2.py\n",
    "\n",
    "#お釣りの金額を求める\n",
    "insert_price = input('insert: ')\n",
    "product_price = input('product: ')\n",
    "change = int(insert_price) - int(product_price)\n",
    "\n",
    "# 5000円札の枚数を求める\n",
    "r5000 = change // 5000\n",
    "q5000 = change % 5000\n",
    "print('5000: ' + str(r5000))\n",
    "\n",
    "# 1000円札の枚数を求める\n",
    "r1000 = q5000 // 1000\n",
    "q1000 = q5000 %1000\n",
    "print('1000: ' + str(r1000))\n",
    "\n",
    "# 500円玉の枚数を求める\n",
    "r500 = q1000 // 500\n",
    "q500 = q1000 % 500\n",
    "print('500: ' + str(r500))\n",
    "\n",
    "# 100円玉の枚数を求める\n",
    "r100 = q500 // 100\n",
    "q100 = q500 % 100\n",
    "print('100: ' + str(r100))\n",
    "\n",
    "# 50円玉の枚数を求める\n",
    "r50 = q100 // 50\n",
    "q50 = q100 % 50\n",
    "print('50: ' + str(r50))\n",
    "\n",
    "# 10円玉の枚数を求める\n",
    "r10 = q50 //10\n",
    "q10 = q50 % 10\n",
    "print('10: ' + str(q10))\n",
    "\n",
    "# 5円玉の枚数を求める\n",
    "r5 = q10 // 5\n",
    "q5 = q10 % 5\n",
    "print('5: ' + str(q5))\n",
    "\n",
    "# 1円玉の枚数を求める\n",
    "r1 = q5 // 1\n",
    "q1 = q5 % 1\n",
    "print('1: ' + str(q1))"
   ]
  },
  {
   "cell_type": "markdown",
   "metadata": {},
   "source": [
    "- リストとループでシンプルな実装にする"
   ]
  },
  {
   "cell_type": "code",
   "execution_count": null,
   "metadata": {},
   "outputs": [],
   "source": [
    "# vending_machine3.py\n",
    "\n",
    "insert_price = input('insert: ')\n",
    "product_price = input('product: ')\n",
    "change = int(insert_price) - int(product_price)\n",
    "\n",
    "coin = [5000, 1000, 500, 100, 50, 10, 5, 1]\n",
    "\n",
    "for i in coin:\n",
    "    r = change // i\n",
    "    change %= i\n",
    "    print(str(i) + ': ' + str(r))"
   ]
  },
  {
   "cell_type": "markdown",
   "metadata": {},
   "source": [
    "- 不適切な入力に対応する\n",
    "- 入力された金額が数字かどうか判定する`isdecimal`関数"
   ]
  },
  {
   "cell_type": "code",
   "execution_count": null,
   "metadata": {},
   "outputs": [],
   "source": [
    "# vending_machine4.py\n",
    "\n",
    "import sys #エラー時に強制終了するためのモジュール\n",
    "\n",
    "insert_price = input('insert: ')\n",
    "if not insert_price.isdecimal():\n",
    "    print('整数を入力してください')\n",
    "    sys.exit()\n",
    "    \n",
    "product_price = input('product: ')\n",
    "if not product_price.isdecimal():\n",
    "    print('整数を入力してください')\n",
    "    sys.exit()\n",
    "    \n",
    "change = int(insert_price) - int(product_price)\n",
    "\n",
    "if change < 0:\n",
    "    print('金額が不足しています')\n",
    "    sys.exit()\n",
    "    \n",
    "coin = [5000, 1000, 500, 100, 50, 10, 5, 1]\n",
    "\n",
    "for i in coin:\n",
    "    r = change // i\n",
    "    change %= i\n",
    "    print(str(i) + ': ' + str(r))"
   ]
  },
  {
   "cell_type": "markdown",
   "metadata": {},
   "source": [
    "`divmod`関数  \n",
    "- `divmod(a, b)`は`(a // b, a % b)`と同じ"
   ]
  },
  {
   "cell_type": "code",
   "execution_count": null,
   "metadata": {},
   "outputs": [],
   "source": [
    "# vending_machine5.py\n",
    "\n",
    "insert_price = input('insert: ')\n",
    "product_price = input('product: ')\n",
    "change = int(insert_price) - int(product_price)\n",
    "\n",
    "coin = [5000, 1000, 500, 100, 50, 10, 5, 1]\n",
    "\n",
    "for i in coin:\n",
    "    r, change = divmod(change, i)\n",
    "    \n",
    "    print(str(i) + ': ' + str(r))"
   ]
  },
  {
   "cell_type": "markdown",
   "metadata": {},
   "source": [
    "### *20201231*"
   ]
  },
  {
   "cell_type": "markdown",
   "metadata": {},
   "source": [
    "### 2.4 基数を変換する"
   ]
  },
  {
   "cell_type": "markdown",
   "metadata": {},
   "source": [
    "１０進数から２進数に変換する\n",
    "- 18(10)を変換→2で割って余りを求める、を商が0になるまで繰り返す"
   ]
  },
  {
   "cell_type": "code",
   "execution_count": null,
   "metadata": {},
   "outputs": [],
   "source": [
    "# convert2.py\n",
    "\n",
    "n = 18\n",
    "\n",
    "def convert(n, base):\n",
    "    result = ''\n",
    "    \n",
    "    while n > 0:\n",
    "        result = str(n % base) + result\n",
    "        n //= base\n",
    "        \n",
    "    return result\n",
    "\n",
    "print(convert(n, 2))\n",
    "print(convert(n, 3))\n",
    "print(convert(n, 8))"
   ]
  },
  {
   "cell_type": "markdown",
   "metadata": {},
   "source": [
    "１０進数から２進数に変換する\n",
    "- i 桁目に基数の累乗(桁数 - 桁番 - 1)をかけて足す"
   ]
  },
  {
   "cell_type": "code",
   "execution_count": null,
   "metadata": {},
   "outputs": [],
   "source": [
    "# convert3.py\n",
    "\n",
    "n = '10010'\n",
    "\n",
    "result = 0\n",
    "for i in range(len(n)):\n",
    "    result += int(n[i]) * (2 ** (len(n) - i - 1))\n",
    "    \n",
    "print(result)"
   ]
  },
  {
   "cell_type": "markdown",
   "metadata": {},
   "source": [
    "- １０進数から２進数の変換には、`bin`関数が用意されている  \n",
    "- int関数の引数に2を指定すると２進数の文字列を１０進数に変換できる"
   ]
  },
  {
   "cell_type": "code",
   "execution_count": null,
   "metadata": {},
   "outputs": [],
   "source": [
    "# convert4.py\n",
    "\n",
    "a = 18\n",
    "print(bin(a))\n",
    "\n",
    "b = '10010'\n",
    "print(int(b,2))"
   ]
  },
  {
   "cell_type": "markdown",
   "metadata": {},
   "source": [
    "ビット演算"
   ]
  },
  {
   "cell_type": "code",
   "execution_count": null,
   "metadata": {},
   "outputs": [],
   "source": [
    "a = 0b10010\n",
    "print('a=' + bin(a))\n",
    "print('ビット反転: ' + bin(~a))\n",
    "b = 0b11001\n",
    "print('b=' + bin(b))\n",
    "\n",
    "print('論理積: ' + bin(a&b))\n",
    "\n",
    "print('論理和: ' + bin(a|b))\n",
    "\n",
    "print('排他的論理和: ' + bin(a^b))\n",
    "\n",
    "print('左シフト: ' + bin(a << 1))\n",
    "\n",
    "print('右シフト: ' + bin(b >> 2))"
   ]
  },
  {
   "cell_type": "markdown",
   "metadata": {},
   "source": [
    "### *20210101*"
   ]
  },
  {
   "cell_type": "markdown",
   "metadata": {},
   "source": [
    "### 2.5 素数を判定する"
   ]
  },
  {
   "cell_type": "markdown",
   "metadata": {},
   "source": [
    "素数か調べるプログラムを作成する\n",
    "- １以外で割り切れる整数が見つかった時点で探索終了\n",
    "- その数の平方根まで探せば十分"
   ]
  },
  {
   "cell_type": "code",
   "execution_count": null,
   "metadata": {},
   "outputs": [],
   "source": [
    "# is_prime2.py\n",
    "\n",
    "import math # 平方根を求めるのに使う数学のモジュール\n",
    "\n",
    "def is_prime(n):\n",
    "    if n <= 1:\n",
    "        return False\n",
    "    for i in range(2, int(math.sqrt(n)) + 1):\n",
    "        if n % i == 0:\n",
    "            return False\n",
    "    return True\n",
    "\n",
    "for i in range(200):\n",
    "    if is_prime(i):\n",
    "        print(i, end=' ')"
   ]
  },
  {
   "cell_type": "markdown",
   "metadata": {},
   "source": [
    "高速に素数を求める方法「エラトステネスの篩」"
   ]
  },
  {
   "cell_type": "code",
   "execution_count": null,
   "metadata": {},
   "outputs": [],
   "source": [
    "# eratosthenes.py\n",
    "\n",
    "import math\n",
    "\n",
    "def get_prime(n):\n",
    "    if n <= 1:\n",
    "        return []\n",
    "    prime = [2]\n",
    "    limit = int(math.sqrt(n))\n",
    "    \n",
    "    #奇数のリストを作成\n",
    "    data = [i + 1 for i in range(2, n, 2)]\n",
    "    while limit > data[0]:\n",
    "        prime.append(data[0])\n",
    "        #割り切れない数だけを取り出す\n",
    "        data = [j for j in data if j % data[0] != 0]\n",
    "        \n",
    "    return prime + data\n",
    "    \n",
    "print(get_prime(200))"
   ]
  },
  {
   "cell_type": "markdown",
   "metadata": {},
   "source": [
    "### *20210102*"
   ]
  },
  {
   "cell_type": "markdown",
   "metadata": {},
   "source": [
    "### 2.6 フィボナッチ数列"
   ]
  },
  {
   "cell_type": "code",
   "execution_count": null,
   "metadata": {},
   "outputs": [],
   "source": [
    "# fibonacci1.py\n",
    "\n",
    "def fibonacci(n):\n",
    "    if (n == 1) or (n ==2):\n",
    "        return 1\n",
    "    return fibonacci(n - 2) + fibonacci(n - 1)"
   ]
  },
  {
   "cell_type": "markdown",
   "metadata": {},
   "source": [
    "### *20210106*"
   ]
  },
  {
   "cell_type": "markdown",
   "metadata": {},
   "source": [
    "関数の中から自身の関数を呼び出し→再帰関数"
   ]
  },
  {
   "cell_type": "markdown",
   "metadata": {},
   "source": [
    "メモ化によって処理を高速化する\n",
    "- 辞書を用意して、処理結果を記録する。一度計算したものは計算せずにすぐ返せるようになる。"
   ]
  },
  {
   "cell_type": "code",
   "execution_count": null,
   "metadata": {},
   "outputs": [],
   "source": [
    "# fibonacci3.py\n",
    "\n",
    "memo = {1: 1, 2: 1}\n",
    "def fibonacci(n):\n",
    "    if n in memo:\n",
    "        return memo[n]\n",
    "    \n",
    "    memo[n] = fibonacci(n - 2) + fibonacci(n - 1)\n",
    "    return memo[n]"
   ]
  },
  {
   "cell_type": "markdown",
   "metadata": {},
   "source": [
    "- 再帰を使わずにループで求める方法もある"
   ]
  },
  {
   "cell_type": "code",
   "execution_count": null,
   "metadata": {},
   "outputs": [],
   "source": [
    "# fibonacci4.py\n",
    "\n",
    "def fibonacci(n):\n",
    "    fib = [1, 1]\n",
    "    for i in range(2, n):\n",
    "        fib.append(fib[i - 2] + fib[i - 1])\n",
    "        \n",
    "    return fib[n - 1]"
   ]
  },
  {
   "cell_type": "markdown",
   "metadata": {},
   "source": [
    "- 同じ結果を求めるときにもさまざまな実装方法がある。  \n",
    "- 処理速度、ソースコードの保守性（読みやすさ、修正のしやすさ）などさまざまな基準がある。"
   ]
  },
  {
   "cell_type": "markdown",
   "metadata": {},
   "source": [
    "### *20210107*"
   ]
  },
  {
   "cell_type": "markdown",
   "metadata": {},
   "source": [
    "第2章理解度チェック"
   ]
  },
  {
   "cell_type": "code",
   "execution_count": null,
   "metadata": {},
   "outputs": [],
   "source": [
    "# 問題１\n",
    "def uru(n):\n",
    "    if n % 4 == 0:\n",
    "        if (n % 100 == 0) and (n % 400 != 0):\n",
    "                return False\n",
    "        else:\n",
    "                return True\n",
    "    else:\n",
    "        return False\n",
    "\n",
    "for i in range(1950, 2051):\n",
    "    if uru(i):\n",
    "        print(i, ' ')\n",
    "        "
   ]
  },
  {
   "cell_type": "code",
   "execution_count": null,
   "metadata": {},
   "outputs": [],
   "source": [
    "def gengo(n):\n",
    "    if n > 1868 and n < 1912:\n",
    "        return '明治'+str(n-1867)+'年'\n",
    "    elif n > 1911 and n < 1926:\n",
    "        return '大正'+str(n-1911)+'年'\n",
    "    elif n > 1925 and n < 1989:\n",
    "        return '昭和'+str(n-1925)+'年'\n",
    "    elif n > 1988 and n < 2019:\n",
    "        return '平成'+str(n-1988)+'年'\n",
    "    elif n > 2018 and n < 2020:\n",
    "        return '令和'+str(n-2018)+'年'\n",
    "    else:\n",
    "        return '変換できません'\n",
    "    \n",
    "century = input('century:')\n",
    "print(gengo(int(century)))"
   ]
  }
 ],
 "metadata": {
  "kernelspec": {
   "display_name": "Python 3",
   "language": "python",
   "name": "python3"
  },
  "language_info": {
   "codemirror_mode": {
    "name": "ipython",
    "version": 3
   },
   "file_extension": ".py",
   "mimetype": "text/x-python",
   "name": "python",
   "nbconvert_exporter": "python",
   "pygments_lexer": "ipython3",
   "version": "3.8.3"
  }
 },
 "nbformat": 4,
 "nbformat_minor": 4
}
