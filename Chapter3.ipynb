{
 "cells": [
  {
   "cell_type": "markdown",
   "metadata": {},
   "source": [
    "## 第3章 計算量について学ぶ  \n",
    "#### keyword: ステップ数, 連結リスト, クラスP, クラスNP"
   ]
  },
  {
   "cell_type": "markdown",
   "metadata": {},
   "source": [
    "### *20210121*"
   ]
  },
  {
   "cell_type": "markdown",
   "metadata": {},
   "source": [
    "### 3.1 計算コスト、実行時間、計算量"
   ]
  },
  {
   "cell_type": "markdown",
   "metadata": {},
   "source": [
    "「計算量」：環境や言語に依存せずアルゴリズムを評価するための言葉。\n",
    "- 時間計算量: 処理にどのくらい時間がかかるのか。命令を実行した回数を調べることで求められる。（ステップ数）\n",
    "- 空間計算量: メモリなどの記憶容量をどれくらい必要とするか  "
   ]
  },
  {
   "cell_type": "markdown",
   "metadata": {},
   "source": [
    "オーダー記法: 全体の計算量に大きな影響がない部分（`print`や`if`）を無視して計算量を記述  \n",
    "  ex.) O(*n*), O(log*n*)"
   ]
  },
  {
   "cell_type": "markdown",
   "metadata": {},
   "source": [
    "### 3.2 データ構造による計算量の違い"
   ]
  },
  {
   "cell_type": "markdown",
   "metadata": {},
   "source": [
    "連結リスト: １つの要素にデータだけでなく、次の要素のアドレスを合わせて持つ。  \n",
    "- データ挿入・削除に要する計算量はO(1)、対してリストはO(n)  \n",
    "- データ読み取りに要する計算量はO(n)、対してリストは要素番号を指定して読み取りするのでO(1)"
   ]
  },
  {
   "cell_type": "markdown",
   "metadata": {},
   "source": [
    "### 3.3 アルゴリズムの計算量と問題の計算量"
   ]
  },
  {
   "cell_type": "markdown",
   "metadata": {},
   "source": [
    "クラスP : O(n)やO(n^2)など、指数部分が整数で表されるもの。多項式時間のオーダー。"
   ]
  },
  {
   "cell_type": "markdown",
   "metadata": {},
   "source": [
    "指数関数O(2^n)や階乗O(n!)のアルゴリズム"
   ]
  },
  {
   "cell_type": "markdown",
   "metadata": {},
   "source": [
    "クラスNP: 非決定多項式時間のオーダーで処理可能なクラス。現在効率的なアルゴリズムは知られていない。  \n",
    "P ≠ NP 予想"
   ]
  },
  {
   "cell_type": "markdown",
   "metadata": {},
   "source": [
    "第3章理解度check"
   ]
  },
  {
   "cell_type": "markdown",
   "metadata": {},
   "source": [
    "(1) O(1)  \n",
    "(2) O(n^2)  \n",
    "(3) O(n)"
   ]
  }
 ],
 "metadata": {
  "kernelspec": {
   "display_name": "Python 3",
   "language": "python",
   "name": "python3"
  },
  "language_info": {
   "codemirror_mode": {
    "name": "ipython",
    "version": 3
   },
   "file_extension": ".py",
   "mimetype": "text/x-python",
   "name": "python",
   "nbconvert_exporter": "python",
   "pygments_lexer": "ipython3",
   "version": "3.8.3"
  }
 },
 "nbformat": 4,
 "nbformat_minor": 4
}
