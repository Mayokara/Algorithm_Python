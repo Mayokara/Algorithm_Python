{
 "cells": [
  {
   "cell_type": "markdown",
   "metadata": {},
   "source": [
    "## 第4章 いろいろな探索方法を学ぶ  \n",
    "#### keyword: 幅優先, 深さ優先, 右手法, ミニマックス法"
   ]
  },
  {
   "cell_type": "markdown",
   "metadata": {},
   "source": [
    "### 4.1 線形探索"
   ]
  },
  {
   "cell_type": "code",
   "execution_count": null,
   "metadata": {},
   "outputs": [],
   "source": [
    "# linear_search.py\n",
    "\n",
    "data = [50, 30, 90, 10, 20, 70, 60, 40, 80]\n",
    "found = False\n",
    "for i in range(len(data)):\n",
    "    if data[i] == 40:\n",
    "        print(i)\n",
    "        found = True\n",
    "        break\n",
    "        \n",
    "if not found:\n",
    "    print('Not Found')"
   ]
  },
  {
   "cell_type": "markdown",
   "metadata": {},
   "source": [
    "線形探索は関数として定義するのが一般的"
   ]
  },
  {
   "cell_type": "code",
   "execution_count": null,
   "metadata": {},
   "outputs": [],
   "source": [
    "# linear_search2.py\n",
    "\n",
    "def linear_search(data, value):\n",
    "    for i in range(len(data)):\n",
    "        if data[i] == value:\n",
    "            return i\n",
    "    return -1\n",
    "\n",
    "data = [50, 30, 90, 10, 20, 70, 60, 40, 80]\n",
    "print(linear_search(data, 40))"
   ]
  },
  {
   "cell_type": "markdown",
   "metadata": {},
   "source": [
    "### 4.2 二分探索"
   ]
  },
  {
   "cell_type": "markdown",
   "metadata": {},
   "source": [
    "データが規則的（昇順）に並んでる場合、中央値と比較して探索範囲を半分にする  "
   ]
  },
  {
   "cell_type": "code",
   "execution_count": null,
   "metadata": {},
   "outputs": [],
   "source": [
    "# binary_search.py\n",
    "\n",
    "def binary_search(data, value):\n",
    "    left = 0\n",
    "    right = len(data)-1\n",
    "    while left <= right:\n",
    "        mid = (left + right) // 2\n",
    "        if data[mid] == value:\n",
    "            return mid\n",
    "        elif data[mid] < value:\n",
    "            left = mid + 1\n",
    "        else:\n",
    "            right = mid - 1\n",
    "    return -1\n",
    "\n",
    "data = [10, 20, 30, 40, 50, 60, 70, 80, 90]\n",
    "print(binary_search(data, 90))"
   ]
  },
  {
   "cell_type": "markdown",
   "metadata": {},
   "source": [
    "- 二分探索の比較回数の増え方は対数ペース。O(log*n*)  \n",
    "- スキップリスト: 一部を読み飛ばせる連結リスト。効率よく探索できる。"
   ]
  },
  {
   "cell_type": "markdown",
   "metadata": {},
   "source": [
    "### 4.3 木構造の探索"
   ]
  },
  {
   "cell_type": "markdown",
   "metadata": {},
   "source": [
    "階層構造のデータの探索"
   ]
  },
  {
   "cell_type": "markdown",
   "metadata": {},
   "source": [
    "幅優先探索"
   ]
  },
  {
   "cell_type": "code",
   "execution_count": null,
   "metadata": {},
   "outputs": [],
   "source": [
    "# breadth_search.py\n",
    "\n",
    "tree = [[1, 2], [3, 4], [5, 6 ], [7, 8], [9, 10], [11, 12], [13, 14], [], [], [], [], [], [], [], []]\n",
    "\n",
    "data = [0]\n",
    "while len(data) > 0:\n",
    "    pos = data.pop(0)\n",
    "    print(pos, end=' ')\n",
    "    for i in tree[pos]:\n",
    "        data.append(i)"
   ]
  },
  {
   "cell_type": "markdown",
   "metadata": {},
   "source": [
    "> `pop`: 指定した位置の要素を削除し、値を取得するメソッド"
   ]
  },
  {
   "cell_type": "markdown",
   "metadata": {},
   "source": [
    "深さ優先探索: 決められた深さまで探索し進めなくなったら戻る。ノードを処理する順番「行きがけ順」「通りがけ順」「帰りがけ順」"
   ]
  },
  {
   "cell_type": "code",
   "execution_count": null,
   "metadata": {},
   "outputs": [],
   "source": [
    "# depth_search1.py\n",
    "# 行きがけ順\n",
    "\n",
    "tree = [[1, 2], [3, 4], [5, 6 ], [7, 8], [9, 10], [11, 12], [13, 14], [], [], [], [], [], [], [], []]\n",
    "\n",
    "def search(pos):\n",
    "    print(pos, end=' ')\n",
    "    for i in tree[pos]:\n",
    "        search(i)\n",
    "search(0)"
   ]
  },
  {
   "cell_type": "code",
   "execution_count": null,
   "metadata": {},
   "outputs": [],
   "source": [
    "# depth_search2.py\n",
    "# 帰りがけ順\n",
    "\n",
    "tree = [[1, 2], [3, 4], [5, 6 ], [7, 8], [9, 10], [11, 12], [13, 14], [], [], [], [], [], [], [], []]\n",
    "\n",
    "def search(pos):\n",
    "    for i in tree[pos]:\n",
    "        search(i)\n",
    "    print(pos, end='  ')\n",
    "\n",
    "search(0)"
   ]
  },
  {
   "cell_type": "code",
   "execution_count": null,
   "metadata": {},
   "outputs": [],
   "source": [
    "# depth_search3.py\n",
    "# 通りがけ順\n",
    "\n",
    "tree = [[1, 2], [3, 4], [5, 6 ], [7, 8], [9, 10], [11, 12], [13, 14], [], [], [], [], [], [], [], []]\n",
    "\n",
    "def search(pos):\n",
    "    if len(tree[pos]) == 2:\n",
    "        search(tree[pos][0])\n",
    "        print(pos, end=' ')\n",
    "        search(tree[pos][1])\n",
    "    elif len(tree[pos]) == 1:\n",
    "        search(tree[pos][0])\n",
    "        print(pos, end=' ')\n",
    "    else:\n",
    "        print(pos, end=' ')\n",
    "        \n",
    "search(0)"
   ]
  },
  {
   "cell_type": "markdown",
   "metadata": {},
   "source": [
    "- 再帰を使わずにループで実装も可能"
   ]
  },
  {
   "cell_type": "code",
   "execution_count": null,
   "metadata": {},
   "outputs": [],
   "source": [
    "# depth_search4.py\n",
    "# 帰りがけ順\n",
    "\n",
    "tree = [[1, 2], [3, 4], [5, 6 ], [7, 8], [9, 10], [11, 12], [13, 14], [], [], [], [], [], [], [], []]\n",
    "\n",
    "data =[0]\n",
    "while len(data) > 0:\n",
    "    pos = data.pop()\n",
    "    print(pos, end=' ')\n",
    "    for i in tree[pos]:\n",
    "        data.append(i)"
   ]
  },
  {
   "cell_type": "markdown",
   "metadata": {},
   "source": [
    "### *20210123*"
   ]
  },
  {
   "cell_type": "markdown",
   "metadata": {},
   "source": [
    "### 4.4 さまざまな例を実装"
   ]
  },
  {
   "cell_type": "markdown",
   "metadata": {},
   "source": [
    "迷路の探索(番兵)\n",
    "- 幅優先探索"
   ]
  },
  {
   "cell_type": "code",
   "execution_count": null,
   "metadata": {},
   "outputs": [],
   "source": [
    "# maze.py\n",
    "\n",
    "maze = [\n",
    "    [9, 9, 9, 9, 9, 9, 9, 9, 9, 9, 9, 9],\n",
    "    [9, 0, 0, 0, 9, 0, 0, 0, 0, 0, 0, 9],\n",
    "    [9, 0, 9, 0, 0, 0, 9, 9, 0, 9, 9, 9],\n",
    "    [9, 0, 9, 9, 0, 9, 0, 0, 0, 9, 0, 9],\n",
    "    [9, 0, 0, 0, 9, 0, 0, 9, 9, 0, 9, 9],\n",
    "    [9, 9, 9, 0, 0, 9, 0, 9, 0, 0, 0, 9],\n",
    "    [9, 0, 0, 0, 9, 0, 9, 0, 0, 9, 1, 9],\n",
    "    [9, 0, 9, 0, 0, 0, 0, 9, 0, 0, 9, 9],\n",
    "    [9, 0, 0, 9, 0, 9, 0, 0, 9, 0, 0, 9],\n",
    "    [9, 0, 9, 0, 9, 0, 9, 0, 0, 9, 0, 9],\n",
    "    [9, 0, 0, 0, 0, 0, 0, 9, 0, 0, 0, 9],\n",
    "    [9, 9, 9, 9, 9, 9, 9, 9, 9, 9, 9, 9]\n",
    "]\n",
    "\n",
    "pos = [[1, 1, 0]]\n",
    "\n",
    "while len(pos) > 0:\n",
    "    x, y, depth = pos.pop(0)\n",
    "    \n",
    "    if maze[x][y] == 1:\n",
    "        print(depth)\n",
    "        break\n",
    "        \n",
    "        maze[x][y] = 2\n",
    "        \n",
    "        #上下左右を探索\n",
    "        if maze[x - 1][y] < 2:\n",
    "            pos.append([x - 1, y, depth + 1])\n",
    "        if maze[x + 1][y] < 2:\n",
    "            pos.append([x + 1, y, depth + 1])\n",
    "        if maze[x][y - 1] < 2:\n",
    "            pos.append([x, y - 1, depth + 1])\n",
    "        if maze[x][y + 1] < 2:\n",
    "            pos.append([x, y + 1, depth + 1])"
   ]
  },
  {
   "cell_type": "markdown",
   "metadata": {},
   "source": [
    "- 深さ優先探索"
   ]
  },
  {
   "cell_type": "code",
   "execution_count": null,
   "metadata": {},
   "outputs": [],
   "source": [
    "# maze2.py\n",
    "\n",
    "maze = [\n",
    "    [9, 9, 9, 9, 9, 9, 9, 9, 9, 9, 9, 9],\n",
    "    [9, 0, 0, 0, 9, 0, 0, 0, 0, 0, 0, 9],\n",
    "    [9, 0, 9, 0, 0, 0, 9, 9, 0, 9, 9, 9],\n",
    "    [9, 0, 9, 9, 0, 9, 0, 0, 0, 9, 0, 9],\n",
    "    [9, 0, 0, 0, 9, 0, 0, 9, 9, 0, 9, 9],\n",
    "    [9, 9, 9, 0, 0, 9, 0, 9, 0, 0, 0, 9],\n",
    "    [9, 0, 0, 0, 9, 0, 9, 0, 0, 9, 1, 9],\n",
    "    [9, 0, 9, 0, 0, 0, 0, 9, 0, 0, 9, 9],\n",
    "    [9, 0, 0, 9, 0, 9, 0, 0, 9, 0, 0, 9],\n",
    "    [9, 0, 9, 0, 9, 0, 9, 0, 0, 9, 0, 9],\n",
    "    [9, 0, 0, 0, 0, 0, 0, 9, 0, 0, 0, 9],\n",
    "    [9, 9, 9, 9, 9, 9, 9, 9, 9, 9, 9, 9]\n",
    "]\n",
    "\n",
    "def search(x, y, depth):\n",
    "    if maze[x][y] == 1:\n",
    "        print(depth)\n",
    "        exit()\n",
    "        \n",
    "    maze[x][y] = 2\n",
    "    \n",
    "    if maze[x - 1][y] < 2:\n",
    "        search(x　-　1, y, depth + 1)\n",
    "    if maze[x + 1][y] < 2:\n",
    "        search(x + 1, y, depth + 1)\n",
    "    if maze[x][y - 1] < 2:\n",
    "        search(x, y - 1, depth + 1)\n",
    "    if maze[x][y + 1] < 2:\n",
    "        search(x, y + 1, depth + 1)\n",
    "        \n",
    "    maze[x][y] = 0\n",
    "    \n",
    "search(1, 1, 0)"
   ]
  },
  {
   "cell_type": "markdown",
   "metadata": {},
   "source": [
    "- 深さ優先探索（右手法）"
   ]
  },
  {
   "cell_type": "code",
   "execution_count": null,
   "metadata": {},
   "outputs": [],
   "source": [
    "# maze3.py\n",
    "\n",
    "maze = [\n",
    "    [9, 9, 9, 9, 9, 9, 9, 9, 9, 9, 9, 9],\n",
    "    [9, 0, 0, 0, 9, 0, 0, 0, 0, 0, 0, 9],\n",
    "    [9, 0, 9, 0, 0, 0, 9, 9, 0, 9, 9, 9],\n",
    "    [9, 0, 9, 9, 0, 9, 0, 0, 0, 9, 0, 9],\n",
    "    [9, 0, 0, 0, 9, 0, 0, 9, 9, 0, 9, 9],\n",
    "    [9, 9, 9, 0, 0, 9, 0, 9, 0, 0, 0, 9],\n",
    "    [9, 0, 0, 0, 9, 0, 9, 0, 0, 9, 1, 9],\n",
    "    [9, 0, 9, 0, 0, 0, 0, 9, 0, 0, 9, 9],\n",
    "    [9, 0, 0, 9, 0, 9, 0, 0, 9, 0, 0, 9],\n",
    "    [9, 0, 9, 0, 9, 0, 9, 0, 0, 9, 0, 9],\n",
    "    [9, 0, 0, 0, 0, 0, 0, 9, 0, 0, 0, 9],\n",
    "    [9, 9, 9, 9, 9, 9, 9, 9, 9, 9, 9, 9]\n",
    "]\n",
    "\n",
    "# 右手法での移動方向をセット\n",
    "dir = [[1, 0], [0, 1], [-1, 0], [0, -1]]\n",
    "\n",
    "x, y, depth, d = 1, 1, 0, 0\n",
    "\n",
    "while maze[x][y] != 1:\n",
    "    maze[x][y] = 2\n",
    "    \n",
    "    for i in range(len(dir)):\n",
    "        # 進行方向の右側から順に探す\n",
    "        j = (d + i -1) % len(dir)  \n",
    "        if maze[x + dir[j][0]][y + dir[j][1]] < 2:\n",
    "            x += dir[j][0]\n",
    "            y += dir[j][1]\n",
    "            d = j\n",
    "            depth += 1\n",
    "            break\n",
    "        elif maze[x + dir[j][0]][y + dir[j][1]] == 2:\n",
    "            x += dir[j][0]\n",
    "            y += dir[j][1]\n",
    "            d = j\n",
    "            depth -=1\n",
    "            break\n",
    "            \n",
    "print(depth)"
   ]
  },
  {
   "cell_type": "code",
   "execution_count": null,
   "metadata": {},
   "outputs": [],
   "source": [
    "# breakとcontinue\n",
    "\n",
    "for i in range(10):\n",
    "    if i % 2 == 0:\n",
    "        if (i + 1) % 5 == 0:\n",
    "            break\n",
    "        continue\n",
    "    print(i)"
   ]
  },
  {
   "cell_type": "markdown",
   "metadata": {},
   "source": [
    "### *20210124*"
   ]
  },
  {
   "cell_type": "markdown",
   "metadata": {},
   "source": [
    "8クイーン問題"
   ]
  },
  {
   "cell_type": "markdown",
   "metadata": {},
   "source": [
    "チェスの盤面に８つのクイーンを互いの利きに入らないように配置"
   ]
  },
  {
   "cell_type": "code",
   "execution_count": null,
   "metadata": {},
   "outputs": [],
   "source": [
    "# queen.py\n",
    "\n",
    "N = 8\n",
    "\n",
    "# 斜めのチェック\n",
    "def check(x, col):\n",
    "    for i, row in enumerate(reversed(col)):\n",
    "        if (x + i + 1 == row) or ( x - i - 1 == row):\n",
    "            return False\n",
    "    return True\n",
    "\n",
    "def search(col):\n",
    "    if len(col) == N: #すべて配置できれば出力\n",
    "        print(col)\n",
    "        return\n",
    "    \n",
    "    for i in range(N):\n",
    "        if i not in col: #同じ行使わない\n",
    "            if check(i, col):\n",
    "                col.append(i)\n",
    "                search(col)\n",
    "                col.pop()\n",
    "                \n",
    "search([])"
   ]
  },
  {
   "cell_type": "markdown",
   "metadata": {},
   "source": [
    "> `enumerate`: インデックス番号と要素を取り出す関数"
   ]
  },
  {
   "cell_type": "markdown",
   "metadata": {},
   "source": [
    "ハノイの塔"
   ]
  },
  {
   "cell_type": "code",
   "execution_count": null,
   "metadata": {},
   "outputs": [],
   "source": [
    "# hanoi.py\n",
    "\n",
    "def hanoi(n, src, dist, via):\n",
    "    if n > 1:\n",
    "        hanoi(n - 1, src, via, dist)\n",
    "        print(src + '->' + dist)\n",
    "        hanoi(n - 1, via, dist, src)\n",
    "    else:\n",
    "        print(src + '->' + dist)\n",
    "        \n",
    "n = int(input())\n",
    "hanoi(n, 'a', 'b', 'c')"
   ]
  },
  {
   "cell_type": "markdown",
   "metadata": {},
   "source": [
    "階層構造で管理されたフォルダやファイルを探索"
   ]
  },
  {
   "cell_type": "markdown",
   "metadata": {},
   "source": [
    "以下はosモジュールにある関数\n",
    "- `listdir`関数: あるフォルダの中になるファイルやフォルダの一覧取得　　\n",
    "- `isdir`関数: 指定されたパスがフォルダか調べる  \n",
    "- `isfile`関数: 指定されたパスがファイルか調べる  \n",
    "- `os.access`関数: ファイルやディレクトリにアクセスする権限を調べる。1つめの引数にはファイルやディレクトリ名、２つ目の引数には調べる内容。"
   ]
  },
  {
   "cell_type": "markdown",
   "metadata": {},
   "source": [
    "「book」というディレクトリを探すプログラムを作成してみる  \n",
    "- 深さ優先探索"
   ]
  },
  {
   "cell_type": "code",
   "execution_count": null,
   "metadata": {},
   "outputs": [],
   "source": [
    "# search_file1.py\n",
    "\n",
    "import os\n",
    "\n",
    "def search(dir, name):\n",
    "    for i in os.listdir(dir):\n",
    "        if i == name:\n",
    "            print(dir + i)\n",
    "        if os.path.isdir(dir + i):\n",
    "            if os.access(dir + i, os.R_OK):\n",
    "                search(dir + i + '/', name)\n",
    "                \n",
    "search('/', 'book')"
   ]
  },
  {
   "cell_type": "markdown",
   "metadata": {},
   "source": [
    "- 幅優先探索"
   ]
  },
  {
   "cell_type": "code",
   "execution_count": null,
   "metadata": {},
   "outputs": [],
   "source": [
    "# search_file2.py\n",
    "\n",
    "import os\n",
    "\n",
    "queue = ['/']\n",
    "\n",
    "while len(queue) > 0:\n",
    "    dir = queue.pop()\n",
    "    for i in os.listdir(dir):\n",
    "        if i == 'book':\n",
    "            print(dir + i)\n",
    "        if os.path.isdir(dir + i):\n",
    "            if os.access(dir + i, os.R_OK):\n",
    "                queue.append(dir + i + '/')"
   ]
  },
  {
   "cell_type": "markdown",
   "metadata": {},
   "source": [
    "### *20210125*"
   ]
  },
  {
   "cell_type": "markdown",
   "metadata": {},
   "source": [
    "三目並べ  \n",
    "- ここではビット演算を使って実装。9カ所のマスを9桁の2進数に対応づける。\n",
    "- ○×それぞれで考える。文字のあるマスは1、無いマスは0。全てのマスが埋まってるどうかはOR演算で判定。\n",
    "- ３つ並んだパターンを事前にリストで用意。AND演算で同じか判定。"
   ]
  },
  {
   "cell_type": "code",
   "execution_count": null,
   "metadata": {},
   "outputs": [],
   "source": [
    "# marubatsu1.py\n",
    "\n",
    "import random\n",
    "\n",
    "goal = [\n",
    "    0b111000000, 0b000111000, 0b000000111, 0b100100100,\n",
    "    0b010010010, 0b001001001, 0b100010001, 0b001010100\n",
    "]\n",
    "\n",
    "# 3つ並んだか判定\n",
    "def check(player):\n",
    "    for mask in goal:\n",
    "        if player & mask == mask:\n",
    "            return True\n",
    "    return False\n",
    "\n",
    "# 交互に置く\n",
    "def play(p1, p2):\n",
    "    if check(p2):\n",
    "        print([bin(p1), bin(p2)])\n",
    "        return\n",
    "    \n",
    "    board = p1 | p2\n",
    "    print(bin(board))\n",
    "    if board == 0b111111111:\n",
    "        print([bin(p1), bin(p2)])\n",
    "        return\n",
    "    \n",
    "    # 置ける場所を探す\n",
    "    w = [i for i in range(9) if (board & (1 << i)) == 0]\n",
    "    print(w)\n",
    "    # ランダムに置く\n",
    "    r = random.choice(w)\n",
    "#     print(r)\n",
    "    play(p2, p1 | (1 << r)) #手番を入れ替えて次を探す\n",
    "    \n",
    "play(0,0)"
   ]
  },
  {
   "cell_type": "markdown",
   "metadata": {},
   "source": [
    "> `bin`関数: ２進数に変換する。  \n",
    "> `<<`: 左シフト。指定した桁だけ左にずらし、空いたビットには0を入れる。"
   ]
  },
  {
   "cell_type": "markdown",
   "metadata": {},
   "source": [
    "- ミニマックス法: 相手が自分にとって最も不利になる手を指すと仮定して、最善の手を探す方法。"
   ]
  },
  {
   "cell_type": "code",
   "execution_count": null,
   "metadata": {},
   "outputs": [],
   "source": [
    "# # marubatsu2.py\n",
    "\n",
    "# goal = [\n",
    "#     0b111000000, 0b000111000, 0b000000111, 0b100100100,\n",
    "#     0b010010010, 0b001001001, 0b100010001, 0b001010100\n",
    "# ]\n",
    "\n",
    "# def check(player):\n",
    "#     for mask in goal:\n",
    "#         if player & mask == mask:\n",
    "#             return True\n",
    "#     return False\n",
    "\n",
    "# # ミニマックス法\n",
    "# def minmax(p1, p2, turn):\n",
    "#     if check(p2):\n",
    "#         if turn:\n",
    "#             return 1\n",
    "#         else:\n",
    "#             return -1\n",
    "        \n",
    "#     board = p1 | p2\n",
    "#     if board == 0b111111111:\n",
    "#         return 0\n",
    "    \n",
    "#     w = [i for i in range(9) if (board & (1 << i)) == 0]\n",
    "    \n",
    "#     if turn:\n",
    "#         return min([minmax])\n"
   ]
  }
 ],
 "metadata": {
  "kernelspec": {
   "display_name": "Python 3",
   "language": "python",
   "name": "python3"
  },
  "language_info": {
   "codemirror_mode": {
    "name": "ipython",
    "version": 3
   },
   "file_extension": ".py",
   "mimetype": "text/x-python",
   "name": "python",
   "nbconvert_exporter": "python",
   "pygments_lexer": "ipython3",
   "version": "3.8.3"
  }
 },
 "nbformat": 4,
 "nbformat_minor": 4
}
