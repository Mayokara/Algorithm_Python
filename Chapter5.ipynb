{
 "cells": [
  {
   "cell_type": "markdown",
   "metadata": {},
   "source": [
    "## 第5章 データの並べ替えにかかる時間を比べる\n",
    "#### keyword: "
   ]
  },
  {
   "cell_type": "markdown",
   "metadata": {},
   "source": [
    "並べ替え（ソート）のアルゴリズムはループや条件分岐、リストの扱い、関数の作成、再帰呼び出しなど基本を学べる。"
   ]
  },
  {
   "cell_type": "markdown",
   "metadata": {},
   "source": [
    "### 5.2 選択ソート"
   ]
  },
  {
   "cell_type": "markdown",
   "metadata": {},
   "source": [
    "- リストの中から最も小さい要素を選んで前に移動する。\n",
    "- 比較回数はn(n-1)/2なので、計算量はO(n^2)"
   ]
  },
  {
   "cell_type": "code",
   "execution_count": null,
   "metadata": {},
   "outputs": [],
   "source": [
    "# select_sort.py\n",
    "\n",
    "data = [6, 15, 4, 2, 8, 5, 11, 9, 7, 13]\n",
    "\n",
    "\n",
    "for i in range(len(data)):\n",
    "    min = i\n",
    "    for j in range(i + 1, len(data)):\n",
    "        if data[min] > data[j]:\n",
    "            min = j\n",
    "            \n",
    "    data[i], data[min] = data[min], data[i]\n",
    "        \n",
    "print(data)"
   ]
  },
  {
   "cell_type": "markdown",
   "metadata": {},
   "source": [
    "### 5.3 挿入ソート"
   ]
  },
  {
   "cell_type": "markdown",
   "metadata": {},
   "source": [
    "- 先頭部分をソート済みとして、残りを適切な位置に挿入していく。  \n",
    "- 最悪の場合比較回数はn(n-1)/2でO(n^2)だが、一度も交換が発生しない場合はO(n)"
   ]
  },
  {
   "cell_type": "code",
   "execution_count": null,
   "metadata": {},
   "outputs": [],
   "source": [
    "# insert_sort.py\n",
    "\n",
    "data = [6, 15, 4, 2, 8, 5, 11, 9, 7, 13]\n",
    "\n",
    "for i in range(1, len(data)):\n",
    "    temp = data[i]\n",
    "    j = i - 1\n",
    "    while (j >= 0) and (data[j] > temp):\n",
    "        data[j + 1] = data[j]\n",
    "        j -= 1\n",
    "    data[j + 1] = temp\n",
    "    \n",
    "print(data)"
   ]
  },
  {
   "cell_type": "markdown",
   "metadata": {},
   "source": [
    "### 5.4 バブルソート"
   ]
  },
  {
   "cell_type": "markdown",
   "metadata": {},
   "source": [
    "- リストの隣り合ったデータを比較して並べ替えていく。\n",
    "- 比較・交換回数はn(n-1)/2なので、計算量はO(n^2)"
   ]
  },
  {
   "cell_type": "code",
   "execution_count": null,
   "metadata": {},
   "outputs": [],
   "source": [
    "# bubble_sort.py\n",
    "\n",
    "data = [6, 15, 4, 2, 8, 5, 11, 9, 7, 13]\n",
    "\n",
    "for i in range(len(data)):\n",
    "    for j in range(len(data) - i - 1):\n",
    "        if data[j] > data[j + 1]:\n",
    "            data[j], data[j + 1] = data[j + 1], data[j]\n",
    "            \n",
    "print(data)"
   ]
  },
  {
   "cell_type": "markdown",
   "metadata": {},
   "source": [
    "- バブルソートの改良。処理中に要素の交換がされなかったときに処理を打ち切る。"
   ]
  },
  {
   "cell_type": "code",
   "execution_count": null,
   "metadata": {},
   "outputs": [],
   "source": [
    "# bubble_sort2.py\n",
    "\n",
    "data = [6, 15, 4, 2, 8, 5, 11, 9, 7, 13]\n",
    "\n",
    "change = True\n",
    "for i in range(len(data)):\n",
    "    if not change:\n",
    "        break\n",
    "    change = False\n",
    "    for j in range(len(data) - i - 1):\n",
    "        if data[j] > data[j + 1]:\n",
    "            data[j], data[j + 1] = data[j + 1], data[j]\n",
    "            change = True\n",
    "        \n",
    "print(data)"
   ]
  },
  {
   "cell_type": "code",
   "execution_count": null,
   "metadata": {},
   "outputs": [],
   "source": []
  }
 ],
 "metadata": {
  "kernelspec": {
   "display_name": "Python 3",
   "language": "python",
   "name": "python3"
  },
  "language_info": {
   "codemirror_mode": {
    "name": "ipython",
    "version": 3
   },
   "file_extension": ".py",
   "mimetype": "text/x-python",
   "name": "python",
   "nbconvert_exporter": "python",
   "pygments_lexer": "ipython3",
   "version": "3.8.3"
  }
 },
 "nbformat": 4,
 "nbformat_minor": 4
}
