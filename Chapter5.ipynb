{
 "cells": [
  {
   "cell_type": "markdown",
   "metadata": {},
   "source": [
    "## 第5章 データの並べ替えにかかる時間を比べる\n",
    "#### keyword: "
   ]
  },
  {
   "cell_type": "markdown",
   "metadata": {},
   "source": [
    "並べ替え（ソート）のアルゴリズムはループや条件分岐、リストの扱い、関数の作成、再帰呼び出しなど基本を学べる。"
   ]
  },
  {
   "cell_type": "markdown",
   "metadata": {},
   "source": [
    "### 5.2 選択ソート"
   ]
  },
  {
   "cell_type": "markdown",
   "metadata": {},
   "source": [
    "- リストの中から最も小さい要素を選んで前に移動する。\n",
    "- 比較回数はn(n-1)/2なので、計算量はO(n^2)"
   ]
  },
  {
   "cell_type": "code",
   "execution_count": null,
   "metadata": {},
   "outputs": [],
   "source": [
    "# select_sort.py\n",
    "\n",
    "data = [6, 15, 4, 2, 8, 5, 11, 9, 7, 13]\n",
    "\n",
    "\n",
    "for i in range(len(data)):\n",
    "    min = i\n",
    "    for j in range(i + 1, len(data)):\n",
    "        if data[min] > data[j]:\n",
    "            min = j\n",
    "            \n",
    "    data[i], data[min] = data[min], data[i]\n",
    "        \n",
    "print(data)"
   ]
  },
  {
   "cell_type": "markdown",
   "metadata": {},
   "source": [
    "### 5.3 挿入ソート"
   ]
  },
  {
   "cell_type": "markdown",
   "metadata": {},
   "source": [
    "- 先頭部分をソート済みとして、残りを適切な位置に挿入していく。  \n",
    "- 最悪の場合比較回数はn(n-1)/2でO(n^2)だが、一度も交換が発生しない場合はO(n)"
   ]
  },
  {
   "cell_type": "code",
   "execution_count": null,
   "metadata": {},
   "outputs": [],
   "source": [
    "# insert_sort.py\n",
    "\n",
    "data = [6, 15, 4, 2, 8, 5, 11, 9, 7, 13]\n",
    "\n",
    "for i in range(1, len(data)):\n",
    "    temp = data[i]\n",
    "    j = i - 1\n",
    "    while (j >= 0) and (data[j] > temp):\n",
    "        data[j + 1] = data[j]\n",
    "        j -= 1\n",
    "    data[j + 1] = temp\n",
    "    \n",
    "print(data)"
   ]
  },
  {
   "cell_type": "markdown",
   "metadata": {},
   "source": [
    "### 5.4 バブルソート"
   ]
  },
  {
   "cell_type": "markdown",
   "metadata": {},
   "source": [
    "- リストの隣り合ったデータを比較して並べ替えていく。\n",
    "- 比較・交換回数はn(n-1)/2なので、計算量はO(n^2)"
   ]
  },
  {
   "cell_type": "code",
   "execution_count": null,
   "metadata": {},
   "outputs": [],
   "source": [
    "# bubble_sort.py\n",
    "\n",
    "data = [6, 15, 4, 2, 8, 5, 11, 9, 7, 13]\n",
    "\n",
    "for i in range(len(data)):\n",
    "    for j in range(len(data) - i - 1):\n",
    "        if data[j] > data[j + 1]:\n",
    "            data[j], data[j + 1] = data[j + 1], data[j]\n",
    "            \n",
    "print(data)"
   ]
  },
  {
   "cell_type": "markdown",
   "metadata": {},
   "source": [
    "- バブルソートの改良。処理中に要素の交換がされなかったときに処理を打ち切る。"
   ]
  },
  {
   "cell_type": "code",
   "execution_count": null,
   "metadata": {},
   "outputs": [],
   "source": [
    "# bubble_sort2.py\n",
    "\n",
    "data = [6, 15, 4, 2, 8, 5, 11, 9, 7, 13]\n",
    "\n",
    "change = True\n",
    "for i in range(len(data)):\n",
    "    if not change:\n",
    "        break\n",
    "    change = False\n",
    "    for j in range(len(data) - i - 1):\n",
    "        if data[j] > data[j + 1]:\n",
    "            data[j], data[j + 1] = data[j + 1], data[j]\n",
    "            change = True\n",
    "        \n",
    "print(data)"
   ]
  },
  {
   "cell_type": "markdown",
   "metadata": {},
   "source": [
    "### *20210126*"
   ]
  },
  {
   "cell_type": "markdown",
   "metadata": {},
   "source": [
    "### 5.5 ヒープソート"
   ]
  },
  {
   "cell_type": "markdown",
   "metadata": {},
   "source": [
    "データを先頭か末尾から出し入れ\n",
    "- スタック: 最後に格納したデータから取り出す構造。スタックにデータを格納することをプッシュ、取り出すことをポップという。"
   ]
  },
  {
   "cell_type": "code",
   "execution_count": null,
   "metadata": {},
   "outputs": [],
   "source": [
    "# stack.py\n",
    "\n",
    "stack = []\n",
    "\n",
    "stack.append(3)\n",
    "stack.append(5)\n",
    "stack.append(2)\n",
    "\n",
    "temp = stack.pop()\n",
    "print(temp)\n",
    "\n",
    "temp = stack.pop()\n",
    "print(temp)\n",
    "\n",
    "stack.append(4)\n",
    "\n",
    "temp = stack.pop()\n",
    "print(temp)"
   ]
  },
  {
   "cell_type": "markdown",
   "metadata": {},
   "source": [
    "- キュー: 格納した順にデータを取り出す構造。キューにデータを格納することをエンキュー、取り出すことをデキューという。  \n",
    "  `queue`モジュールが用意されている。ファイル名queue.pyのようにするとモジュール読み込めないので注意。"
   ]
  },
  {
   "cell_type": "code",
   "execution_count": null,
   "metadata": {},
   "outputs": [],
   "source": [
    "# queue_sample.py\n",
    "\n",
    "import queue\n",
    "\n",
    "q = queue.Queue()\n",
    "\n",
    "q.put(3)\n",
    "q.put(5)\n",
    "q.put(2)\n",
    "\n",
    "temp = q.get()\n",
    "print(temp)\n",
    "\n",
    "temp = q.get()\n",
    "print(temp)\n",
    "\n",
    "q.put(4)\n",
    "\n",
    "temp = q.get()\n",
    "print(temp)"
   ]
  },
  {
   "cell_type": "markdown",
   "metadata": {},
   "source": [
    "> `queue`モジュールには`LifoQueue`(スタックのような使い方ができる)や`SimpleQueue`というクラスも用意されている。"
   ]
  },
  {
   "cell_type": "markdown",
   "metadata": {},
   "source": [
    "ヒープ: 木構造で構成されるデータ。子ノードの値が親ノードより常に大きいか等しい。  \n",
    "- 要素追加は木構造の最後。追加した後で親の要素と比較して、親より小さければ交換。入れ替えがなくなるまで繰り返し。  \n",
    "- 要素取り出しはルートから。再構成のために最後尾（右下）の要素を移す。子の数字と比較してより小さいほうと交換。入れ替えがなくなるまで繰り返し。\n",
    "- 計算量はO(logn)、最初にヒープを構成するのにもn個のデータに処理を行うので合わせてO(nlogn)"
   ]
  },
  {
   "cell_type": "code",
   "execution_count": null,
   "metadata": {},
   "outputs": [],
   "source": [
    "# heap_sort.py\n",
    "\n",
    "data = [6, 15, 4, 2, 8, 5, 11, 9, 7, 13]\n",
    "\n",
    "# ヒープ\n",
    "for i in range(len(data)):\n",
    "    j = i\n",
    "    while (j > 0) and (data[(j - 1) // 2] < data[j]):\n",
    "        data[(j - 1) // 2], data[j] = data[j], data[(j - 1) // 2]\n",
    "        j = (j - 1) // 2\n",
    "        \n",
    "# ソート\n",
    "for i in range(len(data), 0, -1):\n",
    "    data[i - 1], data[0] = data[0], data[i - 1]\n",
    "    j = 0\n",
    "    while ((2 * j + 1 < i - 1) and (data[j] < data[2 * j + 1]))\\\n",
    "    or ((2 * j + 2 < i - 1) and (data[2 * j + 2] > data[2 * j + 2])):\n",
    "        if (2 * j + 2 == i - 1) or (data[2 * j + 1] > data[2 * j + 2]):\n",
    "            data[j], data[2 * j + 1] = data[2 * j + 1], data[j]\n",
    "            j = 2 * j + 1\n",
    "        else:\n",
    "            data[j], data[2 * j + 2] = data[2 * j + 2], data[j]\n",
    "            j = 2 * j + 2\n",
    "            \n",
    "print(data)"
   ]
  },
  {
   "cell_type": "markdown",
   "metadata": {},
   "source": [
    "- `heapify` というヒープを構成する再帰関数を作成してみる。"
   ]
  },
  {
   "cell_type": "code",
   "execution_count": null,
   "metadata": {},
   "outputs": [],
   "source": [
    "# heap_sort2.py\n",
    "\n",
    "def heapify(data, i):\n",
    "    left = 2 * i + 1"
   ]
  },
  {
   "cell_type": "markdown",
   "metadata": {},
   "source": [
    "### 5.6 マージソート"
   ]
  },
  {
   "cell_type": "markdown",
   "metadata": {},
   "source": [
    "データが入ったリストを２分割にすることを繰り返し、バラバラの状態から統合（マージ）する際に小さい順に並べる。"
   ]
  },
  {
   "cell_type": "code",
   "execution_count": null,
   "metadata": {},
   "outputs": [],
   "source": [
    "# merge_sort.py\n",
    "\n",
    "data = [6, 15, 4, 2, 8, 5, 11, 9, 7, 13]\n",
    "\n",
    "def merge_sort(data):\n",
    "    if len(data) <= 1:\n",
    "        return data\n",
    "    \n",
    "    mid = len(data) // 2\n",
    "    left = merge_sort(data[:mid])\n",
    "    right = merge_sort(data[mid:])\n",
    "    \n",
    "    return merge(left, right)\n",
    "\n",
    "\n",
    "def merge(left, right):\n",
    "    result = []\n",
    "    i, j = 0, 0\n",
    "    \n",
    "    while (i < len(left)) and (j < len(right)):\n",
    "        if left[i] <= right[j]:\n",
    "            result.append(left[i])\n",
    "            i += 1\n",
    "        else:\n",
    "            result.append(right[j])\n",
    "            j += 1\n",
    "            \n",
    "    if i < len(left):\n",
    "        result.extend(left[i:])\n",
    "    if j < len(right):\n",
    "        result.extend(right[j:])\n",
    "    return result\n",
    "\n",
    "print(merge_sort(data))"
   ]
  },
  {
   "cell_type": "markdown",
   "metadata": {},
   "source": [
    "> `.extend()`: 末尾に別のリストやタプルを結合"
   ]
  },
  {
   "cell_type": "markdown",
   "metadata": {},
   "source": [
    "### *20210130*"
   ]
  },
  {
   "cell_type": "markdown",
   "metadata": {},
   "source": [
    "### 5.7 クイックソート"
   ]
  },
  {
   "cell_type": "markdown",
   "metadata": {},
   "source": [
    "リストから適当にデータを１つ選んで、これを基準として小さい要素大きい要素に分割する。これを繰り返してソートする。  \n",
    "- 基準となるデータをピボットという。  \n",
    "- うまく選ぶと高速に処理できるが選んだ値によっては選択ソートなどど同じくらい時間がかかる。"
   ]
  },
  {
   "cell_type": "code",
   "execution_count": null,
   "metadata": {},
   "outputs": [],
   "source": [
    "# quick_sort.py\n",
    "\n",
    "data = [6, 15, 4, 2, 8, 5, 11, 9, 7, 13]\n",
    "\n",
    "def quick_sort(data):\n",
    "    if len(data) <= 1:\n",
    "        return data\n",
    "    \n",
    "    pivot = data[0]\n",
    "    left, right, same = [], [], 0\n",
    "    \n",
    "    for i in data:\n",
    "        if i < pivot:\n",
    "            left.append(i)\n",
    "        elif i > pivot:\n",
    "            right.append(i)\n",
    "        else:\n",
    "            same += 1\n",
    "            \n",
    "    left = quick_sort(left)\n",
    "    right = quick_sort(right)\n",
    "    \n",
    "    return left + [pivot] * same + right\n",
    "\n",
    "print(quick_sort(data))"
   ]
  },
  {
   "cell_type": "markdown",
   "metadata": {},
   "source": [
    "- ピボットでの分割処理を、リスト内包表記を使ってシンプルに実装"
   ]
  },
  {
   "cell_type": "code",
   "execution_count": null,
   "metadata": {},
   "outputs": [],
   "source": [
    "# quick_sort2.py\n",
    "\n",
    "data = [6, 15, 4, 2, 8, 5, 11, 9, 7, 13]\n",
    "\n",
    "def quick_sort(data):\n",
    "    if len(data) <= 1:\n",
    "        return data\n",
    "    \n",
    "    pivot = data[0]\n",
    "    left = [i for i in data[1:] if i <= pivot]\n",
    "    right = [i for i in data[1:] if i > pivot]\n",
    "    \n",
    "    left = quick_sort(left)\n",
    "    right = quick_sort(right)\n",
    "    \n",
    "    return left + [pivot] + right\n",
    "\n",
    "print(quick_sort(data))"
   ]
  },
  {
   "cell_type": "markdown",
   "metadata": {},
   "source": [
    "> 並列処理: 1台のCPUで複数の処理を同時に実行   \n",
    "> 並行処理: 同時には１つの処理のみで、見た目上同時に実行されてみえる処理"
   ]
  },
  {
   "cell_type": "markdown",
   "metadata": {},
   "source": [
    "### *20210131*"
   ]
  },
  {
   "cell_type": "markdown",
   "metadata": {},
   "source": [
    "### 5.8 処理速度を比較する"
   ]
  },
  {
   "cell_type": "markdown",
   "metadata": {},
   "source": [
    "Pythonの標準ライブラリの`sort`関数は内部でC言語のプログラムが動いているため高速"
   ]
  },
  {
   "cell_type": "markdown",
   "metadata": {},
   "source": [
    "第5章 理解度check"
   ]
  },
  {
   "cell_type": "code",
   "execution_count": null,
   "metadata": {},
   "outputs": [],
   "source": [
    "# binsort\n",
    "\n",
    "data = [9, 4, 5, 2, 8, 3, 7, 8, 3, 2, 6, 5, 7, 9, 2, 9]\n",
    "\n",
    "def binsort(data):\n",
    "    cnt = [0] * 10\n",
    "    for i in range(len(data)):\n",
    "        for j in range(10):\n",
    "            if data[i] == j:\n",
    "                cnt[j] += 1\n",
    "    print(cnt)\n",
    "                \n",
    "    result = []\n",
    "    for i in range(10):\n",
    "        for j in range(cnt[i]):\n",
    "            result.append(i)\n",
    "    return result\n",
    "\n",
    "print(binsort(data))"
   ]
  }
 ],
 "metadata": {
  "kernelspec": {
   "display_name": "Python 3",
   "language": "python",
   "name": "python3"
  },
  "language_info": {
   "codemirror_mode": {
    "name": "ipython",
    "version": 3
   },
   "file_extension": ".py",
   "mimetype": "text/x-python",
   "name": "python",
   "nbconvert_exporter": "python",
   "pygments_lexer": "ipython3",
   "version": "3.8.3"
  }
 },
 "nbformat": 4,
 "nbformat_minor": 4
}
