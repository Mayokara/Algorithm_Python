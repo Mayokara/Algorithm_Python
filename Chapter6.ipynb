{
 "cells": [
  {
   "cell_type": "markdown",
   "metadata": {},
   "source": [
    "## 第6章 実務に役立つアルゴリズムを知る  \n",
    "#### keyword:"
   ]
  },
  {
   "cell_type": "markdown",
   "metadata": {},
   "source": [
    "### 6.1 最短経路問題とは？"
   ]
  },
  {
   "cell_type": "markdown",
   "metadata": {},
   "source": [
    "時間・費用・距離などをそれぞれ数値化してコストとして考える。"
   ]
  },
  {
   "cell_type": "markdown",
   "metadata": {},
   "source": [
    "格子状の経路で、最短経路がいくつあるか求める手法\n",
    "1. 右にm回, 上にn回移動する場合m+nCm\n",
    "2. 交点を通るパターン数を左下から足していく → プログラミングでも便利  \n",
    "- 動的計画法（DP）"
   ]
  },
  {
   "cell_type": "code",
   "execution_count": null,
   "metadata": {},
   "outputs": [],
   "source": [
    "# near_route1.py\n",
    "\n",
    "M, N = 6, 5\n",
    "\n",
    "route = [[0 for i in range(N + 1)] for j in range(M + 1)]\n",
    "\n",
    "for i in range(M + 1):\n",
    "    route[i][0] = 1\n",
    "    \n",
    "for i in range(1, N + 1):\n",
    "    route[0][i] = 1\n",
    "    for j in range(1, M + 1):\n",
    "        route[j][i] = route[j - 1][i] + route[j][i - 1]\n",
    "        \n",
    "print(route[M][N])"
   ]
  },
  {
   "cell_type": "markdown",
   "metadata": {},
   "source": [
    "- メモ化(計算済の情報を保持)"
   ]
  },
  {
   "cell_type": "code",
   "execution_count": null,
   "metadata": {},
   "outputs": [],
   "source": [
    "# near_route2.py\n",
    "\n",
    "import functools\n",
    "\n",
    "M, N = 6, 5\n",
    "\n",
    "@functools.lru_cache(maxsize = None)\n",
    "def search(m, n):\n",
    "    if (m == 0) or (n == 0):\n",
    "        return 1\n",
    "    \n",
    "    return search(m - 1, n) + search(m, n - 1)\n",
    "\n",
    "print(search(M, N))"
   ]
  },
  {
   "cell_type": "markdown",
   "metadata": {},
   "source": [
    "### *20210205*"
   ]
  },
  {
   "cell_type": "markdown",
   "metadata": {},
   "source": [
    "### 6.2 ベルマンフォード法"
   ]
  },
  {
   "cell_type": "markdown",
   "metadata": {},
   "source": [
    "- 辺の重みに注目して解く  \n",
    "- スタート地点は0, それ以外のコストの初期値は無限大`float('inf')`  "
   ]
  },
  {
   "cell_type": "code",
   "execution_count": null,
   "metadata": {},
   "outputs": [],
   "source": [
    "# bellman_ford.py\n",
    "\n",
    "def bellman_ford(edges, num_v):\n",
    "    dist = [float('inf') for i in range(num_v)]\n",
    "    dist[0] = 0\n",
    "    \n",
    "    changed = True #コストが更新されたか\n",
    "    while changed:\n",
    "        changed = False\n",
    "        for edge in edges:\n",
    "            if dist[edge[1]] > dist[edge[0]] + edge[2]:\n",
    "                dist[edge[1]] = dist[edge[0]] + edge[2]\n",
    "                changed = True\n",
    "                \n",
    "    return dist\n",
    "\n",
    "# １つの辺は起点と終点の番号、コストの３つの要素をもつ\n",
    "edges = [\n",
    "    [0, 1, 4], [0, 2, 3], [1, 2, 1], [1, 3, 1],\n",
    "    [1, 4, 5], [2, 5, 2], [4, 6, 2], [5, 4, 1],\n",
    "    [5, 6, 4]\n",
    "]\n",
    "\n",
    "print(bellman_ford(edges, 7))"
   ]
  },
  {
   "cell_type": "markdown",
   "metadata": {},
   "source": [
    "### 6.3 ダイクストラ法"
   ]
  },
  {
   "cell_type": "markdown",
   "metadata": {},
   "source": [
    "コストが最小になる頂点を選択することを繰り返す"
   ]
  },
  {
   "cell_type": "code",
   "execution_count": null,
   "metadata": {},
   "outputs": [],
   "source": [
    "# dijkstra.py\n",
    "\n",
    "def dijkstra(edges, num_v):\n",
    "    dist = [float('inf')] * num_v\n",
    "    dist[0] = 0\n",
    "    q = [i for i in range(num_v)]\n",
    "    \n",
    "    while len(q) > 0:\n",
    "        r = q[0]\n",
    "        for i in q:\n",
    "            if dist[i] < dist[r]:\n",
    "                r = i\n",
    "                \n",
    "        u = q.pop(q.index(r))\n",
    "        for i in edges[u]:\n",
    "            if dist[i[0]] > dist[u] + i[1]:\n",
    "                dist[i[0]] = dist[u] + i[1]\n",
    "                \n",
    "    return dist\n",
    "\n",
    "edges = [\n",
    "    [[1, 4], [2, 3]],\n",
    "    [[2, 1], [3, 1], [4, 5]],\n",
    "    [[5, 2]],\n",
    "    [[4, 3]],\n",
    "    [[6, 2]],\n",
    "    [[4, 1], [6, 4]],\n",
    "    []\n",
    "]\n",
    "\n",
    "print(dijkstra(edges, 7))"
   ]
  },
  {
   "cell_type": "code",
   "execution_count": null,
   "metadata": {},
   "outputs": [],
   "source": []
  }
 ],
 "metadata": {
  "kernelspec": {
   "display_name": "Python 3",
   "language": "python",
   "name": "python3"
  },
  "language_info": {
   "codemirror_mode": {
    "name": "ipython",
    "version": 3
   },
   "file_extension": ".py",
   "mimetype": "text/x-python",
   "name": "python",
   "nbconvert_exporter": "python",
   "pygments_lexer": "ipython3",
   "version": "3.8.3"
  }
 },
 "nbformat": 4,
 "nbformat_minor": 4
}
